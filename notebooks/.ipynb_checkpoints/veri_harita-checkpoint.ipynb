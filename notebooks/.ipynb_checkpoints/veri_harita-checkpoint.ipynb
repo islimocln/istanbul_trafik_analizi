{
 "cells": [
  {
   "cell_type": "code",
   "execution_count": 1,
   "metadata": {},
   "outputs": [
    {
     "name": "stdout",
     "output_type": "stream",
     "text": [
      "[(21109511, 41.0229624, 29.0497436), (21111240, 41.0229216, 29.049362), (21138211, 41.0383303, 29.0321179), (21138217, 41.0392282, 29.0339246), (21138252, 41.0379052, 29.0313679)]\n"
     ]
    }
   ],
   "source": [
    "import psycopg2\n",
    "\n",
    "# PostgreSQL Bağlantısı\n",
    "conn = psycopg2.connect(\n",
    "    dbname=\"trafik_verisi\",  # Veritabanı adı\n",
    "    user=\"postgres\",  # Kullanıcı adı\n",
    "    password=\"Software.23\",  # Şifrenizi yazın\n",
    "    host=\"localhost\",  # Veritabanı sunucusu (yerel sunucu)\n",
    "    port=\"5432\"  # PostgreSQL portu\n",
    ")\n",
    "cursor = conn.cursor()\n",
    "\n",
    "# Verileri çekiyoruz\n",
    "cursor.execute(\"SELECT osm_id, latitude, longitude FROM istanbul_yollar LIMIT 1000\")  # 1000 satır alıyoruz\n",
    "rows = cursor.fetchall()\n",
    "\n",
    "# Bağlantıyı kapatıyoruz\n",
    "cursor.close()\n",
    "conn.close()\n",
    "\n",
    "# Verileri kontrol edelim\n",
    "print(rows[:5])  # İlk 5 kaydı yazdıralım\n"
   ]
  },
  {
   "cell_type": "code",
   "execution_count": 2,
   "metadata": {},
   "outputs": [],
   "source": [
    "import folium\n",
    "\n",
    "# İstanbul'un merkezine yakın bir başlangıç noktası\n",
    "m = folium.Map(location=[41.015137, 28.979530], zoom_start=12)  # İstanbul'un koordinatları\n",
    "\n",
    "# Her bir yol noktası için haritaya ekleme yapıyoruz\n",
    "for row in rows:\n",
    "    osm_id, lat, lon = row\n",
    "    folium.CircleMarker(\n",
    "        location=[lat, lon],\n",
    "        radius=3,\n",
    "        color=\"blue\",\n",
    "        fill=True,\n",
    "        fill_color=\"blue\",\n",
    "        fill_opacity=0.6,\n",
    "        popup=f\"OSM ID: {osm_id} | Lat: {lat} | Lon: {lon}\"\n",
    "    ).add_to(m)\n",
    "\n",
    "# Haritayı kaydedelim\n",
    "m.save(\"istanbul_yollar.html\")\n"
   ]
  }
 ],
 "metadata": {
  "kernelspec": {
   "display_name": "venv",
   "language": "python",
   "name": "python3"
  },
  "language_info": {
   "codemirror_mode": {
    "name": "ipython",
    "version": 3
   },
   "file_extension": ".py",
   "mimetype": "text/x-python",
   "name": "python",
   "nbconvert_exporter": "python",
   "pygments_lexer": "ipython3",
   "version": "3.12.2"
  }
 },
 "nbformat": 4,
 "nbformat_minor": 2
}
