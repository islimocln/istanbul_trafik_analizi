{
 "cells": [
  {
   "cell_type": "code",
   "execution_count": 1,
   "metadata": {},
   "outputs": [
    {
     "name": "stdout",
     "output_type": "stream",
     "text": [
      "[(21109511, 41.0229624, 29.0497436), (21111240, 41.0229216, 29.049362), (21138211, 41.0383303, 29.0321179), (21138217, 41.0392282, 29.0339246), (21138252, 41.0379052, 29.0313679)]\n"
     ]
    }
   ],
   "source": [
    "import psycopg2\n",
    "\n",
    "# PostgreSQL Bağlantısı\n",
    "conn = psycopg2.connect(\n",
    "    dbname=\"trafik_verisi\",  # Veritabanı adı\n",
    "    user=\"postgres\",  # Kullanıcı adı\n",
    "    password=\"Software.23\",  # Şifrenizi yazın\n",
    "    host=\"localhost\",  # Veritabanı sunucusu (yerel sunucu)\n",
    "    port=\"5432\"  # PostgreSQL portu\n",
    ")\n",
    "cursor = conn.cursor()\n",
    "\n",
    "# Verileri çekiyoruz\n",
    "cursor.execute(\"SELECT osm_id, latitude, longitude FROM istanbul_yollar LIMIT 1000\")  # 1000 satır alıyoruz\n",
    "rows = cursor.fetchall()\n",
    "\n",
    "# Bağlantıyı kapatıyoruz\n",
    "cursor.close()\n",
    "conn.close()\n",
    "\n",
    "# Verileri kontrol edelim\n",
    "print(rows[:5])  # İlk 5 kaydı yazdıralım\n"
   ]
  },
  {
   "cell_type": "code",
   "execution_count": 2,
   "metadata": {},
   "outputs": [],
   "source": [
    "import folium\n",
    "\n",
    "# İstanbul'un merkezine yakın bir başlangıç noktası\n",
    "m = folium.Map(location=[41.015137, 28.979530], zoom_start=12)  # İstanbul'un koordinatları\n",
    "\n",
    "# Her bir yol noktası için haritaya ekleme yapıyoruz\n",
    "for row in rows:\n",
    "    osm_id, lat, lon = row\n",
    "    folium.CircleMarker(\n",
    "        location=[lat, lon],\n",
    "        radius=3,\n",
    "        color=\"blue\",\n",
    "        fill=True,\n",
    "        fill_color=\"blue\",\n",
    "        fill_opacity=0.6,\n",
    "        popup=f\"OSM ID: {osm_id} | Lat: {lat} | Lon: {lon}\"\n",
    "    ).add_to(m)\n",
    "\n",
    "# Haritayı kaydedelim\n",
    "m.save(\"istanbul_yollar.html\")\n"
   ]
  },
  {
   "cell_type": "code",
   "execution_count": 1,
   "metadata": {},
   "outputs": [
    {
     "data": {
      "text/html": [
       "<div>\n",
       "<style scoped>\n",
       "    .dataframe tbody tr th:only-of-type {\n",
       "        vertical-align: middle;\n",
       "    }\n",
       "\n",
       "    .dataframe tbody tr th {\n",
       "        vertical-align: top;\n",
       "    }\n",
       "\n",
       "    .dataframe thead th {\n",
       "        text-align: right;\n",
       "    }\n",
       "</style>\n",
       "<table border=\"1\" class=\"dataframe\">\n",
       "  <thead>\n",
       "    <tr style=\"text-align: right;\">\n",
       "      <th></th>\n",
       "      <th>adi</th>\n",
       "      <th>is_nevi</th>\n",
       "      <th>is_nevi_tnm</th>\n",
       "      <th>akaryakit_dagitim_sirketi</th>\n",
       "      <th>akaryakit_dagitim_sirketi_tnm</th>\n",
       "      <th>lpg_dagitim_sirketi</th>\n",
       "      <th>lpg_dagitim_sirketi_tnm</th>\n",
       "      <th>tesis_turu</th>\n",
       "      <th>tesis_turu_tnm</th>\n",
       "      <th>ilce_uavt</th>\n",
       "      <th>ilce</th>\n",
       "      <th>mahalle_uavt</th>\n",
       "      <th>mahalle_adi</th>\n",
       "      <th>latitude</th>\n",
       "      <th>longitude</th>\n",
       "    </tr>\n",
       "  </thead>\n",
       "  <tbody>\n",
       "    <tr>\n",
       "      <th>0</th>\n",
       "      <td>GÜNEŞLİ PETROLCÜLÜK GIDA MADDELERİ VE TİCARET ...</td>\n",
       "      <td>2.0</td>\n",
       "      <td>Akaryakıt Lpg</td>\n",
       "      <td>22.0</td>\n",
       "      <td>KadOil</td>\n",
       "      <td>10.0</td>\n",
       "      <td>Aygaz</td>\n",
       "      <td>1</td>\n",
       "      <td>Aktif</td>\n",
       "      <td>2004</td>\n",
       "      <td>BAĞCILAR</td>\n",
       "      <td>40155.0</td>\n",
       "      <td>BAĞLAR</td>\n",
       "      <td>28.823000</td>\n",
       "      <td>41.031312</td>\n",
       "    </tr>\n",
       "    <tr>\n",
       "      <th>1</th>\n",
       "      <td>FULYA AKARYAKIT TİC. VE SAN. A.Ş.</td>\n",
       "      <td>1.0</td>\n",
       "      <td>Akaryakıt</td>\n",
       "      <td>10.0</td>\n",
       "      <td>Opet</td>\n",
       "      <td>NaN</td>\n",
       "      <td>Bilinmiyor</td>\n",
       "      <td>1</td>\n",
       "      <td>Aktif</td>\n",
       "      <td>1183</td>\n",
       "      <td>BEŞİKTAŞ</td>\n",
       "      <td>40221.0</td>\n",
       "      <td>DİKİLİTAŞ</td>\n",
       "      <td>28.999311</td>\n",
       "      <td>41.055087</td>\n",
       "    </tr>\n",
       "    <tr>\n",
       "      <th>2</th>\n",
       "      <td>ÇINAR AKARYAKIT OTOMOTİV İNŞAAT TARIM VE HAYVA...</td>\n",
       "      <td>2.0</td>\n",
       "      <td>Akaryakıt Lpg</td>\n",
       "      <td>12.0</td>\n",
       "      <td>Petrol Ofisi</td>\n",
       "      <td>47.0</td>\n",
       "      <td>Pogaz</td>\n",
       "      <td>1</td>\n",
       "      <td>Aktif</td>\n",
       "      <td>1835</td>\n",
       "      <td>PENDİK</td>\n",
       "      <td>40628.0</td>\n",
       "      <td>BAHÇELİEVLER</td>\n",
       "      <td>29.236304</td>\n",
       "      <td>40.886248</td>\n",
       "    </tr>\n",
       "    <tr>\n",
       "      <th>3</th>\n",
       "      <td>SÜRPA YAPI İNŞAAT OFSET MATBAACILIK HİZMETLERİ...</td>\n",
       "      <td>2.0</td>\n",
       "      <td>Akaryakıt Lpg</td>\n",
       "      <td>13.0</td>\n",
       "      <td>Shell-Turcas Petrol</td>\n",
       "      <td>39.0</td>\n",
       "      <td>Shell Gaz</td>\n",
       "      <td>1</td>\n",
       "      <td>Aktif</td>\n",
       "      <td>1782</td>\n",
       "      <td>BÜYÜKÇEKMECE</td>\n",
       "      <td>40929.0</td>\n",
       "      <td>KAMİLOBA</td>\n",
       "      <td>28.445831</td>\n",
       "      <td>41.035386</td>\n",
       "    </tr>\n",
       "    <tr>\n",
       "      <th>4</th>\n",
       "      <td>BİLGİN PETROL ÜRÜN.PAZ.İNŞ.SAN.VE TİC.A.Ş.</td>\n",
       "      <td>2.0</td>\n",
       "      <td>Akaryakıt Lpg</td>\n",
       "      <td>12.0</td>\n",
       "      <td>Petrol Ofisi</td>\n",
       "      <td>47.0</td>\n",
       "      <td>Pogaz</td>\n",
       "      <td>1</td>\n",
       "      <td>Aktif</td>\n",
       "      <td>2050</td>\n",
       "      <td>BAŞAKŞEHİR</td>\n",
       "      <td>40584.0</td>\n",
       "      <td>ŞAHİNTEPE</td>\n",
       "      <td>28.746095</td>\n",
       "      <td>41.063782</td>\n",
       "    </tr>\n",
       "  </tbody>\n",
       "</table>\n",
       "</div>"
      ],
      "text/plain": [
       "                                                 adi  is_nevi    is_nevi_tnm  \\\n",
       "0  GÜNEŞLİ PETROLCÜLÜK GIDA MADDELERİ VE TİCARET ...      2.0  Akaryakıt Lpg   \n",
       "1                  FULYA AKARYAKIT TİC. VE SAN. A.Ş.      1.0      Akaryakıt   \n",
       "2  ÇINAR AKARYAKIT OTOMOTİV İNŞAAT TARIM VE HAYVA...      2.0  Akaryakıt Lpg   \n",
       "3  SÜRPA YAPI İNŞAAT OFSET MATBAACILIK HİZMETLERİ...      2.0  Akaryakıt Lpg   \n",
       "4         BİLGİN PETROL ÜRÜN.PAZ.İNŞ.SAN.VE TİC.A.Ş.      2.0  Akaryakıt Lpg   \n",
       "\n",
       "   akaryakit_dagitim_sirketi akaryakit_dagitim_sirketi_tnm  \\\n",
       "0                       22.0                        KadOil   \n",
       "1                       10.0                          Opet   \n",
       "2                       12.0                  Petrol Ofisi   \n",
       "3                       13.0           Shell-Turcas Petrol   \n",
       "4                       12.0                  Petrol Ofisi   \n",
       "\n",
       "   lpg_dagitim_sirketi lpg_dagitim_sirketi_tnm  tesis_turu tesis_turu_tnm  \\\n",
       "0                 10.0                   Aygaz           1          Aktif   \n",
       "1                  NaN              Bilinmiyor           1          Aktif   \n",
       "2                 47.0                   Pogaz           1          Aktif   \n",
       "3                 39.0               Shell Gaz           1          Aktif   \n",
       "4                 47.0                   Pogaz           1          Aktif   \n",
       "\n",
       "   ilce_uavt          ilce  mahalle_uavt   mahalle_adi   latitude  longitude  \n",
       "0       2004      BAĞCILAR       40155.0        BAĞLAR  28.823000  41.031312  \n",
       "1       1183      BEŞİKTAŞ       40221.0     DİKİLİTAŞ  28.999311  41.055087  \n",
       "2       1835        PENDİK       40628.0  BAHÇELİEVLER  29.236304  40.886248  \n",
       "3       1782  BÜYÜKÇEKMECE       40929.0      KAMİLOBA  28.445831  41.035386  \n",
       "4       2050    BAŞAKŞEHİR       40584.0     ŞAHİNTEPE  28.746095  41.063782  "
      ]
     },
     "execution_count": 1,
     "metadata": {},
     "output_type": "execute_result"
    }
   ],
   "source": [
    "import pandas as pd\n",
    "\n",
    "csv_dosyasi = \"../data/fuel_station.csv\"  # Eğer başka bir konumdaysa doğru yolu yaz\n",
    "df = pd.read_csv(csv_dosyasi)\n",
    "df.head()  # İlk 5 satırı göster\n"
   ]
  },
  {
   "cell_type": "code",
   "execution_count": 4,
   "metadata": {},
   "outputs": [
    {
     "name": "stdout",
     "output_type": "stream",
     "text": [
      "Harita 'benzin_istasyonlari.html' olarak kaydedildi.\n"
     ]
    }
   ],
   "source": [
    "import folium\n",
    "\n",
    "# Haritayı başlat (İstanbul merkez olarak ayarlandı)\n",
    "istanbul_map = folium.Map(location=[41.0082, 28.9784], zoom_start=10)\n",
    "\n",
    "# CSV'den gelen noktaları haritaya ekle\n",
    "for _, row in df.iterrows():\n",
    "    folium.Marker(\n",
    "        location=[row[\"longitude\"], row[\"latitude\"]],\n",
    "        popup=row[\"ilce\"],  # İlçeyi göster\n",
    "        tooltip=row[\"mahalle_adi\"]  # Mahalle bilgisini göster\n",
    "    ).add_to(istanbul_map)\n",
    "\n",
    "# Haritayı kaydet ve görüntüle\n",
    "istanbul_map.save(\"benzin_istasyonlari.html\")\n",
    "print(\"Harita 'benzin_istasyonlari.html' olarak kaydedildi.\")\n"
   ]
  },
  {
   "cell_type": "code",
   "execution_count": 3,
   "metadata": {},
   "outputs": [],
   "source": [
    "# NaN değerleri içeren satırları temizleyelim\n",
    "df = df.dropna(subset=[\"latitude\", \"longitude\"])\n",
    "\n",
    "# Harita kodunu tekrar çalıştır\n"
   ]
  },
  {
   "cell_type": "code",
   "execution_count": 1,
   "metadata": {},
   "outputs": [
    {
     "data": {
      "text/plain": [
       "'<!DOCTYPE html>\\n<html>\\n<head>\\n    \\n    <meta http-equiv=\"content-type\" content=\"text/html; charset=UTF-8\" />\\n    \\n        <script>\\n            L_NO_TOUCH = false;\\n            L_DISABLE_3D = false;\\n        </script>\\n    \\n    <style>html, body {width: 100%;height: 100%;margin: 0;padding: 0;}</style>\\n    <style>#map {position:absolute;top:0;bottom:0;right:0;left:0;}</style>\\n    <script src=\"https://cdn.jsdelivr.net/npm/leaflet@1.9.3/dist/leaflet.js\"></script>\\n    <script src=\"https://code.jquery.com/jquery-3.7.1.min.js\"></script>\\n    <script src=\"https://cdn.jsdelivr.net/npm/bootstrap@5.2.2/dist/js/bootstrap.bundle.min.js\"></script>\\n    <script src=\"https://cdnjs.cloudflare.com/ajax/libs/Leaflet.awesome-markers/2.0.2/leaflet.awesome-markers.js\"></script>\\n    <link rel=\"stylesheet\" href=\"https://cdn.jsdelivr.net/npm/leaflet@1.9.3/dist/leaflet.css\"/>\\n    <link rel=\"stylesheet\" href=\"https://cdn.jsdelivr.net/npm/bootstrap@5.2.2/dist/css/bootstrap.min.css\"/>\\n    <link rel=\"stylesheet\" href=\"https://netdna.bootstrapcdn.com/bootstrap/3.0.0/css/bootstrap-glyphicons.css\"/>\\n    <link rel=\"stylesheet\" href=\"https://cdn.jsdelivr.net/npm/@fortawesome/fontawesome-free@6.2.0/css/all.min.css\"/>\\n    <link rel=\"stylesheet\" href=\"https://cdnjs.cloudflare.com/ajax/libs/Leaflet.awesome-markers/2.0.2/leaflet.awesome-markers.css\"/>\\n    <link rel=\"stylesheet\" href=\"https://cdn.jsdelivr.net/gh/python-visualization/folium/folium/templates/leaflet.awesome.rotate.min.css\"/>\\n    \\n            <meta name=\"viewport\" content=\"width=device-width,\\n                initial-scale=1.0, maximum-scale=1.0, user-scalable=no\" />\\n            <style>\\n                #map_27c6d1318e5b45177a85ab486ad23461 {\\n                    position: relative;\\n                    width: 100.0%;\\n                    height: 100.0%;\\n                    left: 0.0%;\\n                    top: 0.0%;\\n                }\\n                .leaflet-container { font-size: 1rem; }\\n            </style>\\n        \\n</head>\\n<body>\\n    \\n    \\n            <div class=\"folium-map\" id=\"map_27c6d1318e5b45177a85ab486ad23461\" ></div>\\n        \\n</body>\\n<script>\\n    \\n    \\n            var map_27c6d1318e5b45177a85ab486ad23461 = L.map(\\n                \"map_27c6d1318e5b45177a85ab486ad23461\",\\n                {\\n                    center: [0.0, 0.0],\\n                    crs: L.CRS.EPSG3857,\\n                    ...{\\n  \"zoom\": 1,\\n  \"zoomControl\": true,\\n  \"preferCanvas\": false,\\n}\\n\\n                }\\n            );\\n\\n            \\n\\n        \\n    \\n            var tile_layer_260d5a9d23c5f002b4efb0a7cf03b5f4 = L.tileLayer(\\n                \"https://tile.openstreetmap.org/{z}/{x}/{y}.png\",\\n                {\\n  \"minZoom\": 0,\\n  \"maxZoom\": 19,\\n  \"maxNativeZoom\": 19,\\n  \"noWrap\": false,\\n  \"attribution\": \"\\\\u0026copy; \\\\u003ca href=\\\\\"https://www.openstreetmap.org/copyright\\\\\"\\\\u003eOpenStreetMap\\\\u003c/a\\\\u003e contributors\",\\n  \"subdomains\": \"abc\",\\n  \"detectRetina\": false,\\n  \"tms\": false,\\n  \"opacity\": 1,\\n}\\n\\n            );\\n        \\n    \\n            tile_layer_260d5a9d23c5f002b4efb0a7cf03b5f4.addTo(map_27c6d1318e5b45177a85ab486ad23461);\\n        \\n</script>\\n</html>'"
      ]
     },
     "metadata": {},
     "output_type": "display_data"
    }
   ],
   "source": [
    "import folium\n",
    "from IPython.display import display\n",
    "\n",
    "# Haritayı tekrar yükle\n",
    "map_path = \"benzin_istasyonlari.html\"\n",
    "display(folium.Map().get_root().render())\n"
   ]
  },
  {
   "cell_type": "code",
   "execution_count": 2,
   "metadata": {},
   "outputs": [
    {
     "ename": "SyntaxError",
     "evalue": "invalid syntax (3965908519.py, line 1)",
     "output_type": "error",
     "traceback": [
      "  \u001b[36mCell\u001b[39m\u001b[36m \u001b[39m\u001b[32mIn[2]\u001b[39m\u001b[32m, line 1\u001b[39m\n\u001b[31m    \u001b[39m\u001b[31mstart benzin_istasyonlari.html\u001b[39m\n          ^\n\u001b[31mSyntaxError\u001b[39m\u001b[31m:\u001b[39m invalid syntax\n"
     ]
    }
   ],
   "source": [
    "start benzin_istasyonlari.html\n"
   ]
  },
  {
   "cell_type": "code",
   "execution_count": 3,
   "metadata": {},
   "outputs": [
    {
     "data": {
      "text/html": [
       "\n",
       "        <iframe\n",
       "            width=\"700\"\n",
       "            height=\"500\"\n",
       "            src=\"benzin_istasyonlari.html\"\n",
       "            frameborder=\"0\"\n",
       "            allowfullscreen\n",
       "            \n",
       "        ></iframe>\n",
       "        "
      ],
      "text/plain": [
       "<IPython.lib.display.IFrame at 0x2963e9ecbf0>"
      ]
     },
     "execution_count": 3,
     "metadata": {},
     "output_type": "execute_result"
    }
   ],
   "source": [
    "from IPython.display import IFrame\n",
    "\n",
    "# HTML haritayı notebook içinde görüntüle\n",
    "IFrame(src=\"benzin_istasyonlari.html\", width=700, height=500)\n"
   ]
  },
  {
   "cell_type": "code",
   "execution_count": 4,
   "metadata": {},
   "outputs": [
    {
     "ename": "ModuleNotFoundError",
     "evalue": "No module named 'overpy'",
     "output_type": "error",
     "traceback": [
      "\u001b[31m---------------------------------------------------------------------------\u001b[39m",
      "\u001b[31mModuleNotFoundError\u001b[39m                       Traceback (most recent call last)",
      "\u001b[36mCell\u001b[39m\u001b[36m \u001b[39m\u001b[32mIn[4]\u001b[39m\u001b[32m, line 1\u001b[39m\n\u001b[32m----> \u001b[39m\u001b[32m1\u001b[39m \u001b[38;5;28;01mimport\u001b[39;00m\u001b[38;5;250m \u001b[39m\u001b[34;01moverpy\u001b[39;00m\n\u001b[32m      2\u001b[39m \u001b[38;5;28;01mimport\u001b[39;00m\u001b[38;5;250m \u001b[39m\u001b[34;01mpandas\u001b[39;00m\u001b[38;5;250m \u001b[39m\u001b[38;5;28;01mas\u001b[39;00m\u001b[38;5;250m \u001b[39m\u001b[34;01mpd\u001b[39;00m\n\u001b[32m      4\u001b[39m \u001b[38;5;66;03m# Overpass API'ye bağlan\u001b[39;00m\n",
      "\u001b[31mModuleNotFoundError\u001b[39m: No module named 'overpy'"
     ]
    }
   ],
   "source": [
    "import overpy\n",
    "import pandas as pd\n",
    "\n",
    "# Overpass API'ye bağlan\n",
    "api = overpy.Overpass()\n",
    "\n",
    "# İstanbul'daki hastaneleri çeken Overpass API sorgusu\n",
    "query = \"\"\"\n",
    "[out:json];\n",
    "area[name=\"Istanbul\"]->.searchArea;\n",
    "(\n",
    "  node[\"amenity\"=\"hospital\"](area.searchArea);\n",
    "  way[\"amenity\"=\"hospital\"](area.searchArea);\n",
    "  relation[\"amenity\"=\"hospital\"](area.searchArea);\n",
    ");\n",
    "out center;\n",
    "\"\"\"\n",
    "\n",
    "# Sorguyu çalıştır ve sonucu al\n",
    "result = api.query(query)\n",
    "\n",
    "# Hastane verilerini listeye çevir\n",
    "hospitals = []\n",
    "for node in result.nodes:\n",
    "    hospitals.append({\n",
    "        \"name\": node.tags.get(\"name\", \"Bilinmeyen Hastane\"),\n",
    "        \"latitude\": node.lat,\n",
    "        \"longitude\": node.lon\n",
    "    })\n",
    "\n",
    "# Hastane verilerini DataFrame'e çevir\n",
    "df_hospitals = pd.DataFrame(hospitals)\n",
    "\n",
    "# İlk 5 hastaneyi göster\n",
    "df_hospitals.head()\n"
   ]
  },
  {
   "cell_type": "code",
   "execution_count": 5,
   "metadata": {},
   "outputs": [
    {
     "data": {
      "text/html": [
       "<div>\n",
       "<style scoped>\n",
       "    .dataframe tbody tr th:only-of-type {\n",
       "        vertical-align: middle;\n",
       "    }\n",
       "\n",
       "    .dataframe tbody tr th {\n",
       "        vertical-align: top;\n",
       "    }\n",
       "\n",
       "    .dataframe thead th {\n",
       "        text-align: right;\n",
       "    }\n",
       "</style>\n",
       "<table border=\"1\" class=\"dataframe\">\n",
       "  <thead>\n",
       "    <tr style=\"text-align: right;\">\n",
       "      <th></th>\n",
       "    </tr>\n",
       "  </thead>\n",
       "  <tbody>\n",
       "  </tbody>\n",
       "</table>\n",
       "</div>"
      ],
      "text/plain": [
       "Empty DataFrame\n",
       "Columns: []\n",
       "Index: []"
      ]
     },
     "execution_count": 5,
     "metadata": {},
     "output_type": "execute_result"
    }
   ],
   "source": [
    "import overpy\n",
    "import pandas as pd\n",
    "\n",
    "# Overpass API'ye bağlan\n",
    "api = overpy.Overpass()\n",
    "\n",
    "# İstanbul'daki hastaneleri çeken Overpass API sorgusu\n",
    "query = \"\"\"\n",
    "[out:json];\n",
    "area[name=\"Istanbul\"]->.searchArea;\n",
    "(\n",
    "  node[\"amenity\"=\"hospital\"](area.searchArea);\n",
    "  way[\"amenity\"=\"hospital\"](area.searchArea);\n",
    "  relation[\"amenity\"=\"hospital\"](area.searchArea);\n",
    ");\n",
    "out center;\n",
    "\"\"\"\n",
    "\n",
    "# Sorguyu çalıştır ve sonucu al\n",
    "result = api.query(query)\n",
    "\n",
    "# Hastane verilerini listeye çevir\n",
    "hospitals = []\n",
    "for node in result.nodes:\n",
    "    hospitals.append({\n",
    "        \"name\": node.tags.get(\"name\", \"Bilinmeyen Hastane\"),\n",
    "        \"latitude\": node.lat,\n",
    "        \"longitude\": node.lon\n",
    "    })\n",
    "\n",
    "# Hastane verilerini DataFrame'e çevir\n",
    "df_hospitals = pd.DataFrame(hospitals)\n",
    "\n",
    "# İlk 5 hastaneyi göster\n",
    "df_hospitals.head()\n"
   ]
  },
  {
   "cell_type": "code",
   "execution_count": null,
   "metadata": {},
   "outputs": [],
   "source": []
  },
  {
   "cell_type": "code",
   "execution_count": 6,
   "metadata": {},
   "outputs": [
    {
     "name": "stdout",
     "output_type": "stream",
     "text": [
      "Toplam 0 hastane bulundu.\n"
     ]
    }
   ],
   "source": [
    "# Çekilen toplam hastane sayısını göster\n",
    "print(f\"Toplam {len(df_hospitals)} hastane bulundu.\")\n"
   ]
  },
  {
   "cell_type": "code",
   "execution_count": 7,
   "metadata": {},
   "outputs": [
    {
     "name": "stdout",
     "output_type": "stream",
     "text": [
      "Overpass API çalışmıyor! Hata: Error: line 3: parse error: bbox requires four arguments \n"
     ]
    }
   ],
   "source": [
    "import overpy\n",
    "\n",
    "# Overpass API'ye bağlan\n",
    "api = overpy.Overpass()\n",
    "\n",
    "# Test amaçlı küçük bir sorgu (İstanbul'daki rastgele bir düğümü alır)\n",
    "query = \"\"\"\n",
    "[out:json];\n",
    "node(41.0082,28.9784);\n",
    "out;\n",
    "\"\"\"\n",
    "\n",
    "try:\n",
    "    result = api.query(query)\n",
    "    print(\"Overpass API çalışıyor, sorgu başarılı.\")\n",
    "except Exception as e:\n",
    "    print(f\"Overpass API çalışmıyor! Hata: {e}\")\n"
   ]
  },
  {
   "cell_type": "code",
   "execution_count": 8,
   "metadata": {},
   "outputs": [
    {
     "name": "stdout",
     "output_type": "stream",
     "text": [
      "Toplam 129 hastane bulundu.\n"
     ]
    }
   ],
   "source": [
    "# Yeni Overpass Sorgusu (İstanbul'daki hastaneler)\n",
    "query = \"\"\"\n",
    "[out:json];\n",
    "area[\"name\"=\"İstanbul\"]->.searchArea;\n",
    "(\n",
    "  node[\"amenity\"=\"hospital\"](area.searchArea);\n",
    "  way[\"amenity\"=\"hospital\"](area.searchArea);\n",
    "  relation[\"amenity\"=\"hospital\"](area.searchArea);\n",
    ");\n",
    "out center;\n",
    "\"\"\"\n",
    "\n",
    "# Sorguyu çalıştır\n",
    "result = api.query(query)\n",
    "\n",
    "# Hastane verilerini listeye çevir\n",
    "hospitals = []\n",
    "for node in result.nodes:\n",
    "    hospitals.append({\n",
    "        \"name\": node.tags.get(\"name\", \"Bilinmeyen Hastane\"),\n",
    "        \"latitude\": node.lat,\n",
    "        \"longitude\": node.lon\n",
    "    })\n",
    "\n",
    "# DataFrame'e çevir\n",
    "import pandas as pd\n",
    "df_hospitals = pd.DataFrame(hospitals)\n",
    "\n",
    "# Toplam hastane sayısını göster\n",
    "print(f\"Toplam {len(df_hospitals)} hastane bulundu.\")\n"
   ]
  },
  {
   "cell_type": "code",
   "execution_count": 9,
   "metadata": {},
   "outputs": [
    {
     "ename": "ModuleNotFoundError",
     "evalue": "No module named 'ace_tools'",
     "output_type": "error",
     "traceback": [
      "\u001b[31m---------------------------------------------------------------------------\u001b[39m",
      "\u001b[31mModuleNotFoundError\u001b[39m                       Traceback (most recent call last)",
      "\u001b[36mCell\u001b[39m\u001b[36m \u001b[39m\u001b[32mIn[9]\u001b[39m\u001b[32m, line 1\u001b[39m\n\u001b[32m----> \u001b[39m\u001b[32m1\u001b[39m \u001b[38;5;28;01mimport\u001b[39;00m\u001b[38;5;250m \u001b[39m\u001b[34;01mace_tools\u001b[39;00m\u001b[38;5;250m \u001b[39m\u001b[38;5;28;01mas\u001b[39;00m\u001b[38;5;250m \u001b[39m\u001b[34;01mtools\u001b[39;00m\n\u001b[32m      3\u001b[39m \u001b[38;5;66;03m# Hastane verilerini tablo olarak gösterelim\u001b[39;00m\n\u001b[32m      4\u001b[39m tools.display_dataframe_to_user(name=\u001b[33m\"\u001b[39m\u001b[33mİstanbul Hastaneleri\u001b[39m\u001b[33m\"\u001b[39m, dataframe=df_hospitals)\n",
      "\u001b[31mModuleNotFoundError\u001b[39m: No module named 'ace_tools'"
     ]
    }
   ],
   "source": [
    "import ace_tools as tools\n",
    "\n",
    "# Hastane verilerini tablo olarak gösterelim\n",
    "tools.display_dataframe_to_user(name=\"İstanbul Hastaneleri\", dataframe=df_hospitals)\n"
   ]
  },
  {
   "cell_type": "code",
   "execution_count": 10,
   "metadata": {},
   "outputs": [
    {
     "data": {
      "text/html": [
       "<div>\n",
       "<style scoped>\n",
       "    .dataframe tbody tr th:only-of-type {\n",
       "        vertical-align: middle;\n",
       "    }\n",
       "\n",
       "    .dataframe tbody tr th {\n",
       "        vertical-align: top;\n",
       "    }\n",
       "\n",
       "    .dataframe thead th {\n",
       "        text-align: right;\n",
       "    }\n",
       "</style>\n",
       "<table border=\"1\" class=\"dataframe\">\n",
       "  <thead>\n",
       "    <tr style=\"text-align: right;\">\n",
       "      <th></th>\n",
       "      <th>name</th>\n",
       "      <th>latitude</th>\n",
       "      <th>longitude</th>\n",
       "    </tr>\n",
       "  </thead>\n",
       "  <tbody>\n",
       "    <tr>\n",
       "      <th>0</th>\n",
       "      <td>Hospital Türk</td>\n",
       "      <td>41.0259618</td>\n",
       "      <td>29.0218119</td>\n",
       "    </tr>\n",
       "    <tr>\n",
       "      <th>1</th>\n",
       "      <td>Kartal Yavuz Selim Devlet Hastanesi</td>\n",
       "      <td>40.8880578</td>\n",
       "      <td>29.1822183</td>\n",
       "    </tr>\n",
       "    <tr>\n",
       "      <th>2</th>\n",
       "      <td>Bilinmeyen Hastane</td>\n",
       "      <td>41.0336496</td>\n",
       "      <td>28.9641454</td>\n",
       "    </tr>\n",
       "    <tr>\n",
       "      <th>3</th>\n",
       "      <td>Bilinmeyen Hastane</td>\n",
       "      <td>41.0111084</td>\n",
       "      <td>29.0190475</td>\n",
       "    </tr>\n",
       "    <tr>\n",
       "      <th>4</th>\n",
       "      <td>Vera Tıp Merkezi</td>\n",
       "      <td>41.0060255</td>\n",
       "      <td>28.7968486</td>\n",
       "    </tr>\n",
       "    <tr>\n",
       "      <th>5</th>\n",
       "      <td>Baltalimanı Hastanesi</td>\n",
       "      <td>41.0964088</td>\n",
       "      <td>29.0535611</td>\n",
       "    </tr>\n",
       "    <tr>\n",
       "      <th>6</th>\n",
       "      <td>Florence Nightingale</td>\n",
       "      <td>41.0632063</td>\n",
       "      <td>29.0042388</td>\n",
       "    </tr>\n",
       "    <tr>\n",
       "      <th>7</th>\n",
       "      <td>Özel Küplüce Tıp Merkez</td>\n",
       "      <td>41.0396776</td>\n",
       "      <td>29.0522183</td>\n",
       "    </tr>\n",
       "    <tr>\n",
       "      <th>8</th>\n",
       "      <td>Özel Remedy Hospital</td>\n",
       "      <td>40.8787769</td>\n",
       "      <td>29.2368748</td>\n",
       "    </tr>\n",
       "    <tr>\n",
       "      <th>9</th>\n",
       "      <td>Özel Bağcılar Tekden Hastanesi</td>\n",
       "      <td>41.0479666</td>\n",
       "      <td>28.8449942</td>\n",
       "    </tr>\n",
       "  </tbody>\n",
       "</table>\n",
       "</div>"
      ],
      "text/plain": [
       "                                  name    latitude   longitude\n",
       "0                        Hospital Türk  41.0259618  29.0218119\n",
       "1  Kartal Yavuz Selim Devlet Hastanesi  40.8880578  29.1822183\n",
       "2                   Bilinmeyen Hastane  41.0336496  28.9641454\n",
       "3                   Bilinmeyen Hastane  41.0111084  29.0190475\n",
       "4                     Vera Tıp Merkezi  41.0060255  28.7968486\n",
       "5                Baltalimanı Hastanesi  41.0964088  29.0535611\n",
       "6                 Florence Nightingale  41.0632063  29.0042388\n",
       "7              Özel Küplüce Tıp Merkez  41.0396776  29.0522183\n",
       "8                 Özel Remedy Hospital  40.8787769  29.2368748\n",
       "9       Özel Bağcılar Tekden Hastanesi  41.0479666  28.8449942"
      ]
     },
     "execution_count": 10,
     "metadata": {},
     "output_type": "execute_result"
    }
   ],
   "source": [
    "# İlk 10 hastaneyi gösterelim\n",
    "df_hospitals.head(10)\n"
   ]
  },
  {
   "cell_type": "code",
   "execution_count": 11,
   "metadata": {},
   "outputs": [
    {
     "ename": "OSError",
     "evalue": "Cannot save file into a non-existent directory: 'data'",
     "output_type": "error",
     "traceback": [
      "\u001b[31m---------------------------------------------------------------------------\u001b[39m",
      "\u001b[31mOSError\u001b[39m                                   Traceback (most recent call last)",
      "\u001b[36mCell\u001b[39m\u001b[36m \u001b[39m\u001b[32mIn[11]\u001b[39m\u001b[32m, line 3\u001b[39m\n\u001b[32m      1\u001b[39m \u001b[38;5;66;03m# Hastane verilerini CSV dosyası olarak kaydet\u001b[39;00m\n\u001b[32m      2\u001b[39m csv_hospitals_path = \u001b[33m\"\u001b[39m\u001b[33mdata/hospitals_osm.csv\u001b[39m\u001b[33m\"\u001b[39m  \u001b[38;5;66;03m# Eğer data klasörü yoksa, farklı bir yol belirle\u001b[39;00m\n\u001b[32m----> \u001b[39m\u001b[32m3\u001b[39m \u001b[43mdf_hospitals\u001b[49m\u001b[43m.\u001b[49m\u001b[43mto_csv\u001b[49m\u001b[43m(\u001b[49m\u001b[43mcsv_hospitals_path\u001b[49m\u001b[43m,\u001b[49m\u001b[43m \u001b[49m\u001b[43mindex\u001b[49m\u001b[43m=\u001b[49m\u001b[38;5;28;43;01mFalse\u001b[39;49;00m\u001b[43m)\u001b[49m\n\u001b[32m      5\u001b[39m \u001b[38;5;28mprint\u001b[39m(\u001b[33mf\u001b[39m\u001b[33m\"\u001b[39m\u001b[33mHastane verileri kaydedildi: \u001b[39m\u001b[38;5;132;01m{\u001b[39;00mcsv_hospitals_path\u001b[38;5;132;01m}\u001b[39;00m\u001b[33m\"\u001b[39m)\n",
      "\u001b[36mFile \u001b[39m\u001b[32mc:\\Users\\islim\\OneDrive\\Masaüstü\\istanbul_trafik_analizi\\venv\\Lib\\site-packages\\pandas\\util\\_decorators.py:333\u001b[39m, in \u001b[36mdeprecate_nonkeyword_arguments.<locals>.decorate.<locals>.wrapper\u001b[39m\u001b[34m(*args, **kwargs)\u001b[39m\n\u001b[32m    327\u001b[39m \u001b[38;5;28;01mif\u001b[39;00m \u001b[38;5;28mlen\u001b[39m(args) > num_allow_args:\n\u001b[32m    328\u001b[39m     warnings.warn(\n\u001b[32m    329\u001b[39m         msg.format(arguments=_format_argument_list(allow_args)),\n\u001b[32m    330\u001b[39m         \u001b[38;5;167;01mFutureWarning\u001b[39;00m,\n\u001b[32m    331\u001b[39m         stacklevel=find_stack_level(),\n\u001b[32m    332\u001b[39m     )\n\u001b[32m--> \u001b[39m\u001b[32m333\u001b[39m \u001b[38;5;28;01mreturn\u001b[39;00m \u001b[43mfunc\u001b[49m\u001b[43m(\u001b[49m\u001b[43m*\u001b[49m\u001b[43margs\u001b[49m\u001b[43m,\u001b[49m\u001b[43m \u001b[49m\u001b[43m*\u001b[49m\u001b[43m*\u001b[49m\u001b[43mkwargs\u001b[49m\u001b[43m)\u001b[49m\n",
      "\u001b[36mFile \u001b[39m\u001b[32mc:\\Users\\islim\\OneDrive\\Masaüstü\\istanbul_trafik_analizi\\venv\\Lib\\site-packages\\pandas\\core\\generic.py:3967\u001b[39m, in \u001b[36mNDFrame.to_csv\u001b[39m\u001b[34m(self, path_or_buf, sep, na_rep, float_format, columns, header, index, index_label, mode, encoding, compression, quoting, quotechar, lineterminator, chunksize, date_format, doublequote, escapechar, decimal, errors, storage_options)\u001b[39m\n\u001b[32m   3956\u001b[39m df = \u001b[38;5;28mself\u001b[39m \u001b[38;5;28;01mif\u001b[39;00m \u001b[38;5;28misinstance\u001b[39m(\u001b[38;5;28mself\u001b[39m, ABCDataFrame) \u001b[38;5;28;01melse\u001b[39;00m \u001b[38;5;28mself\u001b[39m.to_frame()\n\u001b[32m   3958\u001b[39m formatter = DataFrameFormatter(\n\u001b[32m   3959\u001b[39m     frame=df,\n\u001b[32m   3960\u001b[39m     header=header,\n\u001b[32m   (...)\u001b[39m\u001b[32m   3964\u001b[39m     decimal=decimal,\n\u001b[32m   3965\u001b[39m )\n\u001b[32m-> \u001b[39m\u001b[32m3967\u001b[39m \u001b[38;5;28;01mreturn\u001b[39;00m \u001b[43mDataFrameRenderer\u001b[49m\u001b[43m(\u001b[49m\u001b[43mformatter\u001b[49m\u001b[43m)\u001b[49m\u001b[43m.\u001b[49m\u001b[43mto_csv\u001b[49m\u001b[43m(\u001b[49m\n\u001b[32m   3968\u001b[39m \u001b[43m    \u001b[49m\u001b[43mpath_or_buf\u001b[49m\u001b[43m,\u001b[49m\n\u001b[32m   3969\u001b[39m \u001b[43m    \u001b[49m\u001b[43mlineterminator\u001b[49m\u001b[43m=\u001b[49m\u001b[43mlineterminator\u001b[49m\u001b[43m,\u001b[49m\n\u001b[32m   3970\u001b[39m \u001b[43m    \u001b[49m\u001b[43msep\u001b[49m\u001b[43m=\u001b[49m\u001b[43msep\u001b[49m\u001b[43m,\u001b[49m\n\u001b[32m   3971\u001b[39m \u001b[43m    \u001b[49m\u001b[43mencoding\u001b[49m\u001b[43m=\u001b[49m\u001b[43mencoding\u001b[49m\u001b[43m,\u001b[49m\n\u001b[32m   3972\u001b[39m \u001b[43m    \u001b[49m\u001b[43merrors\u001b[49m\u001b[43m=\u001b[49m\u001b[43merrors\u001b[49m\u001b[43m,\u001b[49m\n\u001b[32m   3973\u001b[39m \u001b[43m    \u001b[49m\u001b[43mcompression\u001b[49m\u001b[43m=\u001b[49m\u001b[43mcompression\u001b[49m\u001b[43m,\u001b[49m\n\u001b[32m   3974\u001b[39m \u001b[43m    \u001b[49m\u001b[43mquoting\u001b[49m\u001b[43m=\u001b[49m\u001b[43mquoting\u001b[49m\u001b[43m,\u001b[49m\n\u001b[32m   3975\u001b[39m \u001b[43m    \u001b[49m\u001b[43mcolumns\u001b[49m\u001b[43m=\u001b[49m\u001b[43mcolumns\u001b[49m\u001b[43m,\u001b[49m\n\u001b[32m   3976\u001b[39m \u001b[43m    \u001b[49m\u001b[43mindex_label\u001b[49m\u001b[43m=\u001b[49m\u001b[43mindex_label\u001b[49m\u001b[43m,\u001b[49m\n\u001b[32m   3977\u001b[39m \u001b[43m    \u001b[49m\u001b[43mmode\u001b[49m\u001b[43m=\u001b[49m\u001b[43mmode\u001b[49m\u001b[43m,\u001b[49m\n\u001b[32m   3978\u001b[39m \u001b[43m    \u001b[49m\u001b[43mchunksize\u001b[49m\u001b[43m=\u001b[49m\u001b[43mchunksize\u001b[49m\u001b[43m,\u001b[49m\n\u001b[32m   3979\u001b[39m \u001b[43m    \u001b[49m\u001b[43mquotechar\u001b[49m\u001b[43m=\u001b[49m\u001b[43mquotechar\u001b[49m\u001b[43m,\u001b[49m\n\u001b[32m   3980\u001b[39m \u001b[43m    \u001b[49m\u001b[43mdate_format\u001b[49m\u001b[43m=\u001b[49m\u001b[43mdate_format\u001b[49m\u001b[43m,\u001b[49m\n\u001b[32m   3981\u001b[39m \u001b[43m    \u001b[49m\u001b[43mdoublequote\u001b[49m\u001b[43m=\u001b[49m\u001b[43mdoublequote\u001b[49m\u001b[43m,\u001b[49m\n\u001b[32m   3982\u001b[39m \u001b[43m    \u001b[49m\u001b[43mescapechar\u001b[49m\u001b[43m=\u001b[49m\u001b[43mescapechar\u001b[49m\u001b[43m,\u001b[49m\n\u001b[32m   3983\u001b[39m \u001b[43m    \u001b[49m\u001b[43mstorage_options\u001b[49m\u001b[43m=\u001b[49m\u001b[43mstorage_options\u001b[49m\u001b[43m,\u001b[49m\n\u001b[32m   3984\u001b[39m \u001b[43m\u001b[49m\u001b[43m)\u001b[49m\n",
      "\u001b[36mFile \u001b[39m\u001b[32mc:\\Users\\islim\\OneDrive\\Masaüstü\\istanbul_trafik_analizi\\venv\\Lib\\site-packages\\pandas\\io\\formats\\format.py:1014\u001b[39m, in \u001b[36mDataFrameRenderer.to_csv\u001b[39m\u001b[34m(self, path_or_buf, encoding, sep, columns, index_label, mode, compression, quoting, quotechar, lineterminator, chunksize, date_format, doublequote, escapechar, errors, storage_options)\u001b[39m\n\u001b[32m    993\u001b[39m     created_buffer = \u001b[38;5;28;01mFalse\u001b[39;00m\n\u001b[32m    995\u001b[39m csv_formatter = CSVFormatter(\n\u001b[32m    996\u001b[39m     path_or_buf=path_or_buf,\n\u001b[32m    997\u001b[39m     lineterminator=lineterminator,\n\u001b[32m   (...)\u001b[39m\u001b[32m   1012\u001b[39m     formatter=\u001b[38;5;28mself\u001b[39m.fmt,\n\u001b[32m   1013\u001b[39m )\n\u001b[32m-> \u001b[39m\u001b[32m1014\u001b[39m \u001b[43mcsv_formatter\u001b[49m\u001b[43m.\u001b[49m\u001b[43msave\u001b[49m\u001b[43m(\u001b[49m\u001b[43m)\u001b[49m\n\u001b[32m   1016\u001b[39m \u001b[38;5;28;01mif\u001b[39;00m created_buffer:\n\u001b[32m   1017\u001b[39m     \u001b[38;5;28;01massert\u001b[39;00m \u001b[38;5;28misinstance\u001b[39m(path_or_buf, StringIO)\n",
      "\u001b[36mFile \u001b[39m\u001b[32mc:\\Users\\islim\\OneDrive\\Masaüstü\\istanbul_trafik_analizi\\venv\\Lib\\site-packages\\pandas\\io\\formats\\csvs.py:251\u001b[39m, in \u001b[36mCSVFormatter.save\u001b[39m\u001b[34m(self)\u001b[39m\n\u001b[32m    247\u001b[39m \u001b[38;5;250m\u001b[39m\u001b[33;03m\"\"\"\u001b[39;00m\n\u001b[32m    248\u001b[39m \u001b[33;03mCreate the writer & save.\u001b[39;00m\n\u001b[32m    249\u001b[39m \u001b[33;03m\"\"\"\u001b[39;00m\n\u001b[32m    250\u001b[39m \u001b[38;5;66;03m# apply compression and byte/text conversion\u001b[39;00m\n\u001b[32m--> \u001b[39m\u001b[32m251\u001b[39m \u001b[38;5;28;01mwith\u001b[39;00m \u001b[43mget_handle\u001b[49m\u001b[43m(\u001b[49m\n\u001b[32m    252\u001b[39m \u001b[43m    \u001b[49m\u001b[38;5;28;43mself\u001b[39;49m\u001b[43m.\u001b[49m\u001b[43mfilepath_or_buffer\u001b[49m\u001b[43m,\u001b[49m\n\u001b[32m    253\u001b[39m \u001b[43m    \u001b[49m\u001b[38;5;28;43mself\u001b[39;49m\u001b[43m.\u001b[49m\u001b[43mmode\u001b[49m\u001b[43m,\u001b[49m\n\u001b[32m    254\u001b[39m \u001b[43m    \u001b[49m\u001b[43mencoding\u001b[49m\u001b[43m=\u001b[49m\u001b[38;5;28;43mself\u001b[39;49m\u001b[43m.\u001b[49m\u001b[43mencoding\u001b[49m\u001b[43m,\u001b[49m\n\u001b[32m    255\u001b[39m \u001b[43m    \u001b[49m\u001b[43merrors\u001b[49m\u001b[43m=\u001b[49m\u001b[38;5;28;43mself\u001b[39;49m\u001b[43m.\u001b[49m\u001b[43merrors\u001b[49m\u001b[43m,\u001b[49m\n\u001b[32m    256\u001b[39m \u001b[43m    \u001b[49m\u001b[43mcompression\u001b[49m\u001b[43m=\u001b[49m\u001b[38;5;28;43mself\u001b[39;49m\u001b[43m.\u001b[49m\u001b[43mcompression\u001b[49m\u001b[43m,\u001b[49m\n\u001b[32m    257\u001b[39m \u001b[43m    \u001b[49m\u001b[43mstorage_options\u001b[49m\u001b[43m=\u001b[49m\u001b[38;5;28;43mself\u001b[39;49m\u001b[43m.\u001b[49m\u001b[43mstorage_options\u001b[49m\u001b[43m,\u001b[49m\n\u001b[32m    258\u001b[39m \u001b[43m\u001b[49m\u001b[43m)\u001b[49m \u001b[38;5;28;01mas\u001b[39;00m handles:\n\u001b[32m    259\u001b[39m     \u001b[38;5;66;03m# Note: self.encoding is irrelevant here\u001b[39;00m\n\u001b[32m    260\u001b[39m     \u001b[38;5;28mself\u001b[39m.writer = csvlib.writer(\n\u001b[32m    261\u001b[39m         handles.handle,\n\u001b[32m    262\u001b[39m         lineterminator=\u001b[38;5;28mself\u001b[39m.lineterminator,\n\u001b[32m   (...)\u001b[39m\u001b[32m    267\u001b[39m         quotechar=\u001b[38;5;28mself\u001b[39m.quotechar,\n\u001b[32m    268\u001b[39m     )\n\u001b[32m    270\u001b[39m     \u001b[38;5;28mself\u001b[39m._save()\n",
      "\u001b[36mFile \u001b[39m\u001b[32mc:\\Users\\islim\\OneDrive\\Masaüstü\\istanbul_trafik_analizi\\venv\\Lib\\site-packages\\pandas\\io\\common.py:749\u001b[39m, in \u001b[36mget_handle\u001b[39m\u001b[34m(path_or_buf, mode, encoding, compression, memory_map, is_text, errors, storage_options)\u001b[39m\n\u001b[32m    747\u001b[39m \u001b[38;5;66;03m# Only for write methods\u001b[39;00m\n\u001b[32m    748\u001b[39m \u001b[38;5;28;01mif\u001b[39;00m \u001b[33m\"\u001b[39m\u001b[33mr\u001b[39m\u001b[33m\"\u001b[39m \u001b[38;5;129;01mnot\u001b[39;00m \u001b[38;5;129;01min\u001b[39;00m mode \u001b[38;5;129;01mand\u001b[39;00m is_path:\n\u001b[32m--> \u001b[39m\u001b[32m749\u001b[39m     \u001b[43mcheck_parent_directory\u001b[49m\u001b[43m(\u001b[49m\u001b[38;5;28;43mstr\u001b[39;49m\u001b[43m(\u001b[49m\u001b[43mhandle\u001b[49m\u001b[43m)\u001b[49m\u001b[43m)\u001b[49m\n\u001b[32m    751\u001b[39m \u001b[38;5;28;01mif\u001b[39;00m compression:\n\u001b[32m    752\u001b[39m     \u001b[38;5;28;01mif\u001b[39;00m compression != \u001b[33m\"\u001b[39m\u001b[33mzstd\u001b[39m\u001b[33m\"\u001b[39m:\n\u001b[32m    753\u001b[39m         \u001b[38;5;66;03m# compression libraries do not like an explicit text-mode\u001b[39;00m\n",
      "\u001b[36mFile \u001b[39m\u001b[32mc:\\Users\\islim\\OneDrive\\Masaüstü\\istanbul_trafik_analizi\\venv\\Lib\\site-packages\\pandas\\io\\common.py:616\u001b[39m, in \u001b[36mcheck_parent_directory\u001b[39m\u001b[34m(path)\u001b[39m\n\u001b[32m    614\u001b[39m parent = Path(path).parent\n\u001b[32m    615\u001b[39m \u001b[38;5;28;01mif\u001b[39;00m \u001b[38;5;129;01mnot\u001b[39;00m parent.is_dir():\n\u001b[32m--> \u001b[39m\u001b[32m616\u001b[39m     \u001b[38;5;28;01mraise\u001b[39;00m \u001b[38;5;167;01mOSError\u001b[39;00m(\u001b[33mrf\u001b[39m\u001b[33m\"\u001b[39m\u001b[33mCannot save file into a non-existent directory: \u001b[39m\u001b[33m'\u001b[39m\u001b[38;5;132;01m{\u001b[39;00mparent\u001b[38;5;132;01m}\u001b[39;00m\u001b[33m'\u001b[39m\u001b[33m\"\u001b[39m)\n",
      "\u001b[31mOSError\u001b[39m: Cannot save file into a non-existent directory: 'data'"
     ]
    }
   ],
   "source": [
    "# Hastane verilerini CSV dosyası olarak kaydet\n",
    "csv_hospitals_path = \"data/hospitals_osm.csv\"  # Eğer data klasörü yoksa, farklı bir yol belirle\n",
    "df_hospitals.to_csv(csv_hospitals_path, index=False)\n",
    "\n",
    "print(f\"Hastane verileri kaydedildi: {csv_hospitals_path}\")\n"
   ]
  },
  {
   "cell_type": "code",
   "execution_count": 12,
   "metadata": {},
   "outputs": [
    {
     "name": "stdout",
     "output_type": "stream",
     "text": [
      "Hastane verileri kaydedildi: C:\\Users\\islim\\OneDrive\\Masaüstü\\istanbul_trafik_analizi\\data\\hospitals_osm.csv\n"
     ]
    }
   ],
   "source": [
    "# Tam dosya yolunu kullanarak hastane verilerini kaydet\n",
    "csv_hospitals_path = r\"C:\\Users\\islim\\OneDrive\\Masaüstü\\istanbul_trafik_analizi\\data\\hospitals_osm.csv\"\n",
    "\n",
    "df_hospitals.to_csv(csv_hospitals_path, index=False)\n",
    "\n",
    "print(f\"Hastane verileri kaydedildi: {csv_hospitals_path}\")\n"
   ]
  },
  {
   "cell_type": "code",
   "execution_count": 13,
   "metadata": {},
   "outputs": [
    {
     "data": {
      "text/html": [
       "<div>\n",
       "<style scoped>\n",
       "    .dataframe tbody tr th:only-of-type {\n",
       "        vertical-align: middle;\n",
       "    }\n",
       "\n",
       "    .dataframe tbody tr th {\n",
       "        vertical-align: top;\n",
       "    }\n",
       "\n",
       "    .dataframe thead th {\n",
       "        text-align: right;\n",
       "    }\n",
       "</style>\n",
       "<table border=\"1\" class=\"dataframe\">\n",
       "  <thead>\n",
       "    <tr style=\"text-align: right;\">\n",
       "      <th></th>\n",
       "      <th>name</th>\n",
       "      <th>latitude</th>\n",
       "      <th>longitude</th>\n",
       "    </tr>\n",
       "  </thead>\n",
       "  <tbody>\n",
       "    <tr>\n",
       "      <th>0</th>\n",
       "      <td>Hospital Türk</td>\n",
       "      <td>41.025962</td>\n",
       "      <td>29.021812</td>\n",
       "    </tr>\n",
       "    <tr>\n",
       "      <th>1</th>\n",
       "      <td>Kartal Yavuz Selim Devlet Hastanesi</td>\n",
       "      <td>40.888058</td>\n",
       "      <td>29.182218</td>\n",
       "    </tr>\n",
       "    <tr>\n",
       "      <th>2</th>\n",
       "      <td>Bilinmeyen Hastane</td>\n",
       "      <td>41.033650</td>\n",
       "      <td>28.964145</td>\n",
       "    </tr>\n",
       "    <tr>\n",
       "      <th>3</th>\n",
       "      <td>Bilinmeyen Hastane</td>\n",
       "      <td>41.011108</td>\n",
       "      <td>29.019047</td>\n",
       "    </tr>\n",
       "    <tr>\n",
       "      <th>4</th>\n",
       "      <td>Vera Tıp Merkezi</td>\n",
       "      <td>41.006025</td>\n",
       "      <td>28.796849</td>\n",
       "    </tr>\n",
       "  </tbody>\n",
       "</table>\n",
       "</div>"
      ],
      "text/plain": [
       "                                  name   latitude  longitude\n",
       "0                        Hospital Türk  41.025962  29.021812\n",
       "1  Kartal Yavuz Selim Devlet Hastanesi  40.888058  29.182218\n",
       "2                   Bilinmeyen Hastane  41.033650  28.964145\n",
       "3                   Bilinmeyen Hastane  41.011108  29.019047\n",
       "4                     Vera Tıp Merkezi  41.006025  28.796849"
      ]
     },
     "execution_count": 13,
     "metadata": {},
     "output_type": "execute_result"
    }
   ],
   "source": [
    "import pandas as pd\n",
    "\n",
    "# Hastane verilerini CSV'den okuyalım\n",
    "csv_hospitals_path = r\"C:\\Users\\islim\\OneDrive\\Masaüstü\\istanbul_trafik_analizi\\data\\hospitals_osm.csv\"\n",
    "\n",
    "df_hospitals = pd.read_csv(csv_hospitals_path)\n",
    "\n",
    "# İlk 5 hastaneyi kontrol edelim\n",
    "df_hospitals.head()\n"
   ]
  },
  {
   "cell_type": "code",
   "execution_count": 14,
   "metadata": {},
   "outputs": [
    {
     "name": "stdout",
     "output_type": "stream",
     "text": [
      "Hastaneler haritaya eklendi: 'istanbul_hastaneler.html'\n"
     ]
    }
   ],
   "source": [
    "import folium\n",
    "\n",
    "# İstanbul merkezli hastane haritası\n",
    "m_hospitals = folium.Map(location=[41.0082, 28.9784], zoom_start=10)\n",
    "\n",
    "# Hastaneleri haritaya ekleyelim\n",
    "for _, row in df_hospitals.iterrows():\n",
    "    folium.Marker(\n",
    "        location=[row[\"latitude\"], row[\"longitude\"]],\n",
    "        popup=row[\"name\"],  \n",
    "        icon=folium.Icon(color=\"blue\", icon=\"medkit\", prefix=\"fa\")  # Hastane sembolü 🏥\n",
    "    ).add_to(m_hospitals)\n",
    "\n",
    "# Yeni haritayı kaydet\n",
    "m_hospitals.save(\"istanbul_hastaneler.html\")\n",
    "\n",
    "print(\"Hastaneler haritaya eklendi: 'istanbul_hastaneler.html'\")\n"
   ]
  },
  {
   "cell_type": "code",
   "execution_count": 15,
   "metadata": {},
   "outputs": [
    {
     "data": {
      "text/html": [
       "<div>\n",
       "<style scoped>\n",
       "    .dataframe tbody tr th:only-of-type {\n",
       "        vertical-align: middle;\n",
       "    }\n",
       "\n",
       "    .dataframe tbody tr th {\n",
       "        vertical-align: top;\n",
       "    }\n",
       "\n",
       "    .dataframe thead th {\n",
       "        text-align: right;\n",
       "    }\n",
       "</style>\n",
       "<table border=\"1\" class=\"dataframe\">\n",
       "  <thead>\n",
       "    <tr style=\"text-align: right;\">\n",
       "      <th></th>\n",
       "    </tr>\n",
       "  </thead>\n",
       "  <tbody>\n",
       "  </tbody>\n",
       "</table>\n",
       "</div>"
      ],
      "text/plain": [
       "Empty DataFrame\n",
       "Columns: []\n",
       "Index: []"
      ]
     },
     "execution_count": 15,
     "metadata": {},
     "output_type": "execute_result"
    }
   ],
   "source": [
    "import overpy\n",
    "import pandas as pd\n",
    "\n",
    "# Overpass API'ye bağlan\n",
    "api = overpy.Overpass()\n",
    "\n",
    "# İstanbul'daki AVM'leri çeken Overpass API sorgusu\n",
    "query = \"\"\"\n",
    "[out:json];\n",
    "area[name=\"Istanbul\"]->.searchArea;\n",
    "(\n",
    "  node[\"shop\"=\"mall\"](area.searchArea);\n",
    "  way[\"shop\"=\"mall\"](area.searchArea);\n",
    "  relation[\"shop\"=\"mall\"](area.searchArea);\n",
    ");\n",
    "out center;\n",
    "\"\"\"\n",
    "\n",
    "# Sorguyu çalıştır ve sonucu al\n",
    "result = api.query(query)\n",
    "\n",
    "# AVM verilerini listeye çevir\n",
    "malls = []\n",
    "for node in result.nodes:\n",
    "    malls.append({\n",
    "        \"name\": node.tags.get(\"name\", \"Bilinmeyen AVM\"),\n",
    "        \"latitude\": node.lat,\n",
    "        \"longitude\": node.lon\n",
    "    })\n",
    "\n",
    "# AVM verilerini DataFrame'e çevir\n",
    "df_malls = pd.DataFrame(malls)\n",
    "\n",
    "# İlk 5 AVM'yi göster\n",
    "df_malls.head()\n"
   ]
  },
  {
   "cell_type": "code",
   "execution_count": 16,
   "metadata": {},
   "outputs": [
    {
     "name": "stdout",
     "output_type": "stream",
     "text": [
      "AVM'ler haritaya eklendi: 'istanbul_avm.html'\n"
     ]
    }
   ],
   "source": [
    "import folium\n",
    "\n",
    "# İstanbul merkezli AVM haritası\n",
    "m_malls = folium.Map(location=[41.0082, 28.9784], zoom_start=10)\n",
    "\n",
    "# AVM'leri haritaya ekleyelim\n",
    "for _, row in df_malls.iterrows():\n",
    "    folium.Marker(\n",
    "        location=[row[\"latitude\"], row[\"longitude\"]],\n",
    "        popup=row[\"name\"],  \n",
    "        icon=folium.Icon(color=\"purple\", icon=\"shopping-cart\", prefix=\"fa\")  # AVM sembolü 🏬\n",
    "    ).add_to(m_malls)\n",
    "\n",
    "# Yeni haritayı kaydet\n",
    "m_malls.save(\"istanbul_avm.html\")\n",
    "\n",
    "print(\"AVM'ler haritaya eklendi: 'istanbul_avm.html'\")\n"
   ]
  },
  {
   "cell_type": "code",
   "execution_count": 4,
   "metadata": {},
   "outputs": [
    {
     "data": {
      "text/html": [
       "\n",
       "        <iframe\n",
       "            width=\"800\"\n",
       "            height=\"600\"\n",
       "            src=\"istanbul_avm.html\"\n",
       "            frameborder=\"0\"\n",
       "            allowfullscreen\n",
       "            \n",
       "        ></iframe>\n",
       "        "
      ],
      "text/plain": [
       "<IPython.lib.display.IFrame at 0x2963ecefe30>"
      ]
     },
     "execution_count": 4,
     "metadata": {},
     "output_type": "execute_result"
    }
   ],
   "source": [
    "from IPython.display import IFrame\n",
    "\n",
    "IFrame(src=\"istanbul_avm.html\", width=800, height=600)\n"
   ]
  },
  {
   "cell_type": "code",
   "execution_count": 18,
   "metadata": {},
   "outputs": [
    {
     "name": "stdout",
     "output_type": "stream",
     "text": [
      "Toplam 0 AVM bulundu.\n"
     ]
    }
   ],
   "source": [
    "# Çekilen toplam AVM sayısını göster\n",
    "print(f\"Toplam {len(df_malls)} AVM bulundu.\")\n"
   ]
  },
  {
   "cell_type": "code",
   "execution_count": 19,
   "metadata": {},
   "outputs": [
    {
     "name": "stdout",
     "output_type": "stream",
     "text": [
      "Toplam 134 AVM bulundu.\n"
     ]
    }
   ],
   "source": [
    "import overpy\n",
    "\n",
    "api = overpy.Overpass()\n",
    "\n",
    "# Örnek: İstanbul bölgesindeki AVM'leri (shop=mall olarak işaretlenmiş noktaları) çekmek için bir sorgu:\n",
    "query_malls = \"\"\"\n",
    "[out:json][timeout:25];\n",
    "area[name=\"İstanbul\"]->.searchArea;\n",
    "node[\"shop\"=\"mall\"](area.searchArea);\n",
    "out body;\n",
    "\"\"\"\n",
    "result_malls = api.query(query_malls)\n",
    "\n",
    "# Gelen verileri bir DataFrame'e dönüştürmek ve sayısını görmek:\n",
    "mall_nodes = result_malls.nodes\n",
    "df_malls = pd.DataFrame({\n",
    "    \"id\": [node.id for node in mall_nodes],\n",
    "    \"name\": [node.tags.get(\"name\", \"Unknown\") for node in mall_nodes],\n",
    "    \"lat\": [node.lat for node in mall_nodes],\n",
    "    \"lon\": [node.lon for node in mall_nodes]\n",
    "})\n",
    "print(f\"Toplam {len(df_malls)} AVM bulundu.\")\n"
   ]
  },
  {
   "cell_type": "code",
   "execution_count": 20,
   "metadata": {},
   "outputs": [
    {
     "name": "stdout",
     "output_type": "stream",
     "text": [
      "AVM'ler başarıyla 'istanbul_avmler.csv' dosyasına kaydedildi.\n"
     ]
    }
   ],
   "source": [
    "# Çekilen AVM'leri bir CSV dosyasına kaydet\n",
    "df_malls.to_csv(\"istanbul_avmler.csv\", index=False, encoding=\"utf-8\")\n",
    "print(\"AVM'ler başarıyla 'istanbul_avmler.csv' dosyasına kaydedildi.\")\n"
   ]
  },
  {
   "cell_type": "code",
   "execution_count": 21,
   "metadata": {},
   "outputs": [
    {
     "name": "stdout",
     "output_type": "stream",
     "text": [
      "AVM'ler başarıyla C:\\Users\\islim\\OneDrive\\Masaüstü\\istanbul_trafik_analizi\\data\\istanbul_avmler.csv yoluna kaydedildi.\n"
     ]
    }
   ],
   "source": [
    "# Çekilen AVM'leri belirtilen klasöre kaydet\n",
    "output_path = r\"C:\\Users\\islim\\OneDrive\\Masaüstü\\istanbul_trafik_analizi\\data\\istanbul_avmler.csv\"\n",
    "df_malls.to_csv(output_path, index=False, encoding=\"utf-8\")\n",
    "print(f\"AVM'ler başarıyla {output_path} yoluna kaydedildi.\")\n"
   ]
  },
  {
   "cell_type": "code",
   "execution_count": 23,
   "metadata": {},
   "outputs": [],
   "source": [
    "import folium\n",
    "\n",
    "# İstanbul merkezine yakın bir başlangıç noktası belirle (örnek koordinatlar).\n",
    "istanbul_map = folium.Map(location=[41.0082, 28.9784], zoom_start=11)\n",
    "\n",
    "# DataFrame'deki her AVM için bir işaretçi ekle\n",
    "for idx, row in df_malls.iterrows():\n",
    "    folium.Marker(\n",
    "        location=[row[\"lat\"], row[\"lon\"]],\n",
    "        popup=row[\"name\"],\n",
    "        icon=folium.Icon(icon=\"shopping-cart\", prefix=\"fa\", color=\"blue\")\n",
    "    ).add_to(istanbul_map)\n",
    "\n",
    "# Haritayı bir HTML dosyasına kaydet (isteğe bağlı)\n",
    "istanbul_map.save(\"istanbul_avmler_harita.html\")\n"
   ]
  },
  {
   "cell_type": "code",
   "execution_count": 24,
   "metadata": {},
   "outputs": [
    {
     "ename": "KeyError",
     "evalue": "'latitude'",
     "output_type": "error",
     "traceback": [
      "\u001b[31m---------------------------------------------------------------------------\u001b[39m",
      "\u001b[31mKeyError\u001b[39m                                  Traceback (most recent call last)",
      "\u001b[36mFile \u001b[39m\u001b[32mc:\\Users\\islim\\OneDrive\\Masaüstü\\istanbul_trafik_analizi\\venv\\Lib\\site-packages\\pandas\\core\\indexes\\base.py:3805\u001b[39m, in \u001b[36mIndex.get_loc\u001b[39m\u001b[34m(self, key)\u001b[39m\n\u001b[32m   3804\u001b[39m \u001b[38;5;28;01mtry\u001b[39;00m:\n\u001b[32m-> \u001b[39m\u001b[32m3805\u001b[39m     \u001b[38;5;28;01mreturn\u001b[39;00m \u001b[38;5;28;43mself\u001b[39;49m\u001b[43m.\u001b[49m\u001b[43m_engine\u001b[49m\u001b[43m.\u001b[49m\u001b[43mget_loc\u001b[49m\u001b[43m(\u001b[49m\u001b[43mcasted_key\u001b[49m\u001b[43m)\u001b[49m\n\u001b[32m   3806\u001b[39m \u001b[38;5;28;01mexcept\u001b[39;00m \u001b[38;5;167;01mKeyError\u001b[39;00m \u001b[38;5;28;01mas\u001b[39;00m err:\n",
      "\u001b[36mFile \u001b[39m\u001b[32mindex.pyx:167\u001b[39m, in \u001b[36mpandas._libs.index.IndexEngine.get_loc\u001b[39m\u001b[34m()\u001b[39m\n",
      "\u001b[36mFile \u001b[39m\u001b[32mindex.pyx:196\u001b[39m, in \u001b[36mpandas._libs.index.IndexEngine.get_loc\u001b[39m\u001b[34m()\u001b[39m\n",
      "\u001b[36mFile \u001b[39m\u001b[32mpandas\\\\_libs\\\\hashtable_class_helper.pxi:7081\u001b[39m, in \u001b[36mpandas._libs.hashtable.PyObjectHashTable.get_item\u001b[39m\u001b[34m()\u001b[39m\n",
      "\u001b[36mFile \u001b[39m\u001b[32mpandas\\\\_libs\\\\hashtable_class_helper.pxi:7089\u001b[39m, in \u001b[36mpandas._libs.hashtable.PyObjectHashTable.get_item\u001b[39m\u001b[34m()\u001b[39m\n",
      "\u001b[31mKeyError\u001b[39m: 'latitude'",
      "\nThe above exception was the direct cause of the following exception:\n",
      "\u001b[31mKeyError\u001b[39m                                  Traceback (most recent call last)",
      "\u001b[36mCell\u001b[39m\u001b[36m \u001b[39m\u001b[32mIn[24]\u001b[39m\u001b[32m, line 9\u001b[39m\n\u001b[32m      6\u001b[39m \u001b[38;5;66;03m# AVM'leri haritaya ekleyelim\u001b[39;00m\n\u001b[32m      7\u001b[39m \u001b[38;5;28;01mfor\u001b[39;00m _, row \u001b[38;5;129;01min\u001b[39;00m df_malls.iterrows():\n\u001b[32m      8\u001b[39m     folium.Marker(\n\u001b[32m----> \u001b[39m\u001b[32m9\u001b[39m         location=[\u001b[43mrow\u001b[49m\u001b[43m[\u001b[49m\u001b[33;43m\"\u001b[39;49m\u001b[33;43mlatitude\u001b[39;49m\u001b[33;43m\"\u001b[39;49m\u001b[43m]\u001b[49m, row[\u001b[33m\"\u001b[39m\u001b[33mlongitude\u001b[39m\u001b[33m\"\u001b[39m]],\n\u001b[32m     10\u001b[39m         popup=row[\u001b[33m\"\u001b[39m\u001b[33mname\u001b[39m\u001b[33m\"\u001b[39m],  \n\u001b[32m     11\u001b[39m         icon=folium.Icon(color=\u001b[33m\"\u001b[39m\u001b[33mpurple\u001b[39m\u001b[33m\"\u001b[39m, icon=\u001b[33m\"\u001b[39m\u001b[33mshopping-cart\u001b[39m\u001b[33m\"\u001b[39m, prefix=\u001b[33m\"\u001b[39m\u001b[33mfa\u001b[39m\u001b[33m\"\u001b[39m)  \u001b[38;5;66;03m# AVM sembolü 🏬\u001b[39;00m\n\u001b[32m     12\u001b[39m     ).add_to(m_malls)\n\u001b[32m     14\u001b[39m \u001b[38;5;66;03m# Yeni haritayı kaydet\u001b[39;00m\n\u001b[32m     15\u001b[39m m_malls.save(\u001b[33m\"\u001b[39m\u001b[33mistanbul_avm.html\u001b[39m\u001b[33m\"\u001b[39m)\n",
      "\u001b[36mFile \u001b[39m\u001b[32mc:\\Users\\islim\\OneDrive\\Masaüstü\\istanbul_trafik_analizi\\venv\\Lib\\site-packages\\pandas\\core\\series.py:1121\u001b[39m, in \u001b[36mSeries.__getitem__\u001b[39m\u001b[34m(self, key)\u001b[39m\n\u001b[32m   1118\u001b[39m     \u001b[38;5;28;01mreturn\u001b[39;00m \u001b[38;5;28mself\u001b[39m._values[key]\n\u001b[32m   1120\u001b[39m \u001b[38;5;28;01melif\u001b[39;00m key_is_scalar:\n\u001b[32m-> \u001b[39m\u001b[32m1121\u001b[39m     \u001b[38;5;28;01mreturn\u001b[39;00m \u001b[38;5;28;43mself\u001b[39;49m\u001b[43m.\u001b[49m\u001b[43m_get_value\u001b[49m\u001b[43m(\u001b[49m\u001b[43mkey\u001b[49m\u001b[43m)\u001b[49m\n\u001b[32m   1123\u001b[39m \u001b[38;5;66;03m# Convert generator to list before going through hashable part\u001b[39;00m\n\u001b[32m   1124\u001b[39m \u001b[38;5;66;03m# (We will iterate through the generator there to check for slices)\u001b[39;00m\n\u001b[32m   1125\u001b[39m \u001b[38;5;28;01mif\u001b[39;00m is_iterator(key):\n",
      "\u001b[36mFile \u001b[39m\u001b[32mc:\\Users\\islim\\OneDrive\\Masaüstü\\istanbul_trafik_analizi\\venv\\Lib\\site-packages\\pandas\\core\\series.py:1237\u001b[39m, in \u001b[36mSeries._get_value\u001b[39m\u001b[34m(self, label, takeable)\u001b[39m\n\u001b[32m   1234\u001b[39m     \u001b[38;5;28;01mreturn\u001b[39;00m \u001b[38;5;28mself\u001b[39m._values[label]\n\u001b[32m   1236\u001b[39m \u001b[38;5;66;03m# Similar to Index.get_value, but we do not fall back to positional\u001b[39;00m\n\u001b[32m-> \u001b[39m\u001b[32m1237\u001b[39m loc = \u001b[38;5;28;43mself\u001b[39;49m\u001b[43m.\u001b[49m\u001b[43mindex\u001b[49m\u001b[43m.\u001b[49m\u001b[43mget_loc\u001b[49m\u001b[43m(\u001b[49m\u001b[43mlabel\u001b[49m\u001b[43m)\u001b[49m\n\u001b[32m   1239\u001b[39m \u001b[38;5;28;01mif\u001b[39;00m is_integer(loc):\n\u001b[32m   1240\u001b[39m     \u001b[38;5;28;01mreturn\u001b[39;00m \u001b[38;5;28mself\u001b[39m._values[loc]\n",
      "\u001b[36mFile \u001b[39m\u001b[32mc:\\Users\\islim\\OneDrive\\Masaüstü\\istanbul_trafik_analizi\\venv\\Lib\\site-packages\\pandas\\core\\indexes\\base.py:3812\u001b[39m, in \u001b[36mIndex.get_loc\u001b[39m\u001b[34m(self, key)\u001b[39m\n\u001b[32m   3807\u001b[39m     \u001b[38;5;28;01mif\u001b[39;00m \u001b[38;5;28misinstance\u001b[39m(casted_key, \u001b[38;5;28mslice\u001b[39m) \u001b[38;5;129;01mor\u001b[39;00m (\n\u001b[32m   3808\u001b[39m         \u001b[38;5;28misinstance\u001b[39m(casted_key, abc.Iterable)\n\u001b[32m   3809\u001b[39m         \u001b[38;5;129;01mand\u001b[39;00m \u001b[38;5;28many\u001b[39m(\u001b[38;5;28misinstance\u001b[39m(x, \u001b[38;5;28mslice\u001b[39m) \u001b[38;5;28;01mfor\u001b[39;00m x \u001b[38;5;129;01min\u001b[39;00m casted_key)\n\u001b[32m   3810\u001b[39m     ):\n\u001b[32m   3811\u001b[39m         \u001b[38;5;28;01mraise\u001b[39;00m InvalidIndexError(key)\n\u001b[32m-> \u001b[39m\u001b[32m3812\u001b[39m     \u001b[38;5;28;01mraise\u001b[39;00m \u001b[38;5;167;01mKeyError\u001b[39;00m(key) \u001b[38;5;28;01mfrom\u001b[39;00m\u001b[38;5;250m \u001b[39m\u001b[34;01merr\u001b[39;00m\n\u001b[32m   3813\u001b[39m \u001b[38;5;28;01mexcept\u001b[39;00m \u001b[38;5;167;01mTypeError\u001b[39;00m:\n\u001b[32m   3814\u001b[39m     \u001b[38;5;66;03m# If we have a listlike key, _check_indexing_error will raise\u001b[39;00m\n\u001b[32m   3815\u001b[39m     \u001b[38;5;66;03m#  InvalidIndexError. Otherwise we fall through and re-raise\u001b[39;00m\n\u001b[32m   3816\u001b[39m     \u001b[38;5;66;03m#  the TypeError.\u001b[39;00m\n\u001b[32m   3817\u001b[39m     \u001b[38;5;28mself\u001b[39m._check_indexing_error(key)\n",
      "\u001b[31mKeyError\u001b[39m: 'latitude'"
     ]
    }
   ],
   "source": [
    "import folium\n",
    "\n",
    "# İstanbul merkezli AVM haritası\n",
    "m_malls = folium.Map(location=[41.0082, 28.9784], zoom_start=10)\n",
    "\n",
    "# AVM'leri haritaya ekleyelim\n",
    "for _, row in df_malls.iterrows():\n",
    "    folium.Marker(\n",
    "        location=[row[\"latitude\"], row[\"longitude\"]],\n",
    "        popup=row[\"name\"],  \n",
    "        icon=folium.Icon(color=\"purple\", icon=\"shopping-cart\", prefix=\"fa\")  # AVM sembolü 🏬\n",
    "    ).add_to(m_malls)\n",
    "\n",
    "# Yeni haritayı kaydet\n",
    "m_malls.save(\"istanbul_avm.html\")\n",
    "\n",
    "# Haritayı Jupyter'de açalım\n",
    "from IPython.display import IFrame\n",
    "IFrame(src=\"istanbul_avm.html\", width=800, height=600)\n"
   ]
  },
  {
   "cell_type": "code",
   "execution_count": 25,
   "metadata": {},
   "outputs": [
    {
     "name": "stdout",
     "output_type": "stream",
     "text": [
      "Index(['id', 'name', 'lat', 'lon'], dtype='object')\n"
     ]
    }
   ],
   "source": [
    "# AVM veri setindeki sütun adlarını kontrol edelim\n",
    "print(df_malls.columns)\n"
   ]
  },
  {
   "cell_type": "code",
   "execution_count": 26,
   "metadata": {},
   "outputs": [
    {
     "data": {
      "text/html": [
       "\n",
       "        <iframe\n",
       "            width=\"800\"\n",
       "            height=\"600\"\n",
       "            src=\"istanbul_avm.html\"\n",
       "            frameborder=\"0\"\n",
       "            allowfullscreen\n",
       "            \n",
       "        ></iframe>\n",
       "        "
      ],
      "text/plain": [
       "<IPython.lib.display.IFrame at 0x198b75d9730>"
      ]
     },
     "execution_count": 26,
     "metadata": {},
     "output_type": "execute_result"
    }
   ],
   "source": [
    "import folium\n",
    "\n",
    "# İstanbul merkezli AVM haritası\n",
    "m_malls = folium.Map(location=[41.0082, 28.9784], zoom_start=10)\n",
    "\n",
    "# AVM'leri haritaya ekleyelim\n",
    "for _, row in df_malls.iterrows():\n",
    "    folium.Marker(\n",
    "        location=[row[\"lat\"], row[\"lon\"]],\n",
    "        popup=row[\"name\"],  \n",
    "        icon=folium.Icon(color=\"purple\", icon=\"shopping-cart\", prefix=\"fa\")  # AVM sembolü 🏬\n",
    "    ).add_to(m_malls)\n",
    "\n",
    "# Yeni haritayı kaydet\n",
    "m_malls.save(\"istanbul_avm.html\")\n",
    "\n",
    "# Haritayı Jupyter'de açalım\n",
    "from IPython.display import IFrame\n",
    "IFrame(src=\"istanbul_avm.html\", width=800, height=600)\n"
   ]
  },
  {
   "cell_type": "code",
   "execution_count": 27,
   "metadata": {},
   "outputs": [
    {
     "ename": "ModuleNotFoundError",
     "evalue": "No module named 'osmnx'",
     "output_type": "error",
     "traceback": [
      "\u001b[31m---------------------------------------------------------------------------\u001b[39m",
      "\u001b[31mModuleNotFoundError\u001b[39m                       Traceback (most recent call last)",
      "\u001b[36mCell\u001b[39m\u001b[36m \u001b[39m\u001b[32mIn[27]\u001b[39m\u001b[32m, line 2\u001b[39m\n\u001b[32m      1\u001b[39m \u001b[38;5;66;03m# Kütüphaneleri import et\u001b[39;00m\n\u001b[32m----> \u001b[39m\u001b[32m2\u001b[39m \u001b[38;5;28;01mimport\u001b[39;00m\u001b[38;5;250m \u001b[39m\u001b[34;01mosmnx\u001b[39;00m\u001b[38;5;250m \u001b[39m\u001b[38;5;28;01mas\u001b[39;00m\u001b[38;5;250m \u001b[39m\u001b[34;01mox\u001b[39;00m\n\u001b[32m      3\u001b[39m \u001b[38;5;28;01mimport\u001b[39;00m\u001b[38;5;250m \u001b[39m\u001b[34;01mgeopandas\u001b[39;00m\u001b[38;5;250m \u001b[39m\u001b[38;5;28;01mas\u001b[39;00m\u001b[38;5;250m \u001b[39m\u001b[34;01mgpd\u001b[39;00m\n\u001b[32m      5\u001b[39m \u001b[38;5;66;03m# Ayarlar\u001b[39;00m\n",
      "\u001b[31mModuleNotFoundError\u001b[39m: No module named 'osmnx'"
     ]
    }
   ],
   "source": [
    "# Kütüphaneleri import et\n",
    "import osmnx as ox\n",
    "import geopandas as gpd\n",
    "\n",
    "# Ayarlar\n",
    "ox.config(log_console=True, use_cache=True)\n",
    "\n",
    "# İstanbul sınırları\n",
    "istanbul = ox.geocode_to_gdf('Istanbul, Turkey')\n",
    "\n",
    "# İstanbul'daki eczaneleri (pharmacy) çek\n",
    "eczane_poi = ox.features_from_polygon(\n",
    "    istanbul.geometry.iloc[0],\n",
    "    tags={\"amenity\": \"pharmacy\"}\n",
    ")\n",
    "\n",
    "# Veriyi temizle ve tablo oluştur\n",
    "eczaneler = eczane_poi[['name', 'geometry']].dropna(subset=['geometry']).reset_index(drop=True)\n",
    "eczaneler['latitude'] = eczaneler.geometry.y\n",
    "eczaneler['longitude'] = eczaneler.geometry.x\n",
    "eczaneler = eczaneler.drop(columns='geometry')\n",
    "\n",
    "# Sonucu görüntüle\n",
    "eczaneler.head(10)\n"
   ]
  },
  {
   "cell_type": "code",
   "execution_count": 28,
   "metadata": {},
   "outputs": [
    {
     "data": {
      "text/html": [
       "<div>\n",
       "<style scoped>\n",
       "    .dataframe tbody tr th:only-of-type {\n",
       "        vertical-align: middle;\n",
       "    }\n",
       "\n",
       "    .dataframe tbody tr th {\n",
       "        vertical-align: top;\n",
       "    }\n",
       "\n",
       "    .dataframe thead th {\n",
       "        text-align: right;\n",
       "    }\n",
       "</style>\n",
       "<table border=\"1\" class=\"dataframe\">\n",
       "  <thead>\n",
       "    <tr style=\"text-align: right;\">\n",
       "      <th></th>\n",
       "    </tr>\n",
       "  </thead>\n",
       "  <tbody>\n",
       "  </tbody>\n",
       "</table>\n",
       "</div>"
      ],
      "text/plain": [
       "Empty DataFrame\n",
       "Columns: []\n",
       "Index: []"
      ]
     },
     "execution_count": 28,
     "metadata": {},
     "output_type": "execute_result"
    }
   ],
   "source": [
    "import overpy\n",
    "import pandas as pd\n",
    "\n",
    "# Overpass API bağlantısı\n",
    "api = overpy.Overpass()\n",
    "\n",
    "# İstanbul'daki eczaneleri çekmek için sorgu\n",
    "query = \"\"\"\n",
    "[out:json];\n",
    "area[name=\"Istanbul\"]->.searchArea;\n",
    "(\n",
    "  node[\"amenity\"=\"pharmacy\"](area.searchArea);\n",
    "  way[\"amenity\"=\"pharmacy\"](area.searchArea);\n",
    "  relation[\"amenity\"=\"pharmacy\"](area.searchArea);\n",
    ");\n",
    "out center;\n",
    "\"\"\"\n",
    "\n",
    "# Sorguyu çalıştır\n",
    "result = api.query(query)\n",
    "\n",
    "eczaneler = []\n",
    "\n",
    "# Node verilerini işle\n",
    "for node in result.nodes:\n",
    "    eczaneler.append({\n",
    "        \"name\": node.tags.get(\"name\", \"İsimsiz Eczane\"),\n",
    "        \"latitude\": node.lat,\n",
    "        \"longitude\": node.lon\n",
    "    })\n",
    "\n",
    "# Way verilerini işle (alanların merkez noktası)\n",
    "for way in result.ways:\n",
    "    eczaneler.append({\n",
    "        \"name\": way.tags.get(\"name\", \"İsimsiz Eczane\"),\n",
    "        \"latitude\": way.center_lat,\n",
    "        \"longitude\": way.center_lon\n",
    "    })\n",
    "\n",
    "# Relation verilerini işle\n",
    "for rel in result.relations:\n",
    "    eczaneler.append({\n",
    "        \"name\": rel.tags.get(\"name\", \"İsimsiz Eczane\"),\n",
    "        \"latitude\": rel.center_lat,\n",
    "        \"longitude\": rel.center_lon\n",
    "    })\n",
    "\n",
    "# DataFrame'e dönüştür\n",
    "df_eczaneler = pd.DataFrame(eczaneler)\n",
    "\n",
    "# İlk 10 eczaneyi görüntüle\n",
    "df_eczaneler.head(10)\n"
   ]
  },
  {
   "cell_type": "code",
   "execution_count": 29,
   "metadata": {},
   "outputs": [
    {
     "name": "stdout",
     "output_type": "stream",
     "text": [
      "Toplam çekilen eczane sayısı: 0\n"
     ]
    }
   ],
   "source": [
    "# Toplam kaç eczane olduğunu sorgulayalım\n",
    "print(f\"Toplam çekilen eczane sayısı: {len(df_eczaneler)}\")\n"
   ]
  },
  {
   "cell_type": "code",
   "execution_count": 30,
   "metadata": {},
   "outputs": [
    {
     "ename": "AttributeError",
     "evalue": "'Way' object has no attribute 'get_center'",
     "output_type": "error",
     "traceback": [
      "\u001b[31m---------------------------------------------------------------------------\u001b[39m",
      "\u001b[31mAttributeError\u001b[39m                            Traceback (most recent call last)",
      "\u001b[36mCell\u001b[39m\u001b[36m \u001b[39m\u001b[32mIn[30]\u001b[39m\u001b[32m, line 31\u001b[39m\n\u001b[32m     29\u001b[39m \u001b[38;5;66;03m# Way verilerini ekleyelim\u001b[39;00m\n\u001b[32m     30\u001b[39m \u001b[38;5;28;01mfor\u001b[39;00m way \u001b[38;5;129;01min\u001b[39;00m result.ways:\n\u001b[32m---> \u001b[39m\u001b[32m31\u001b[39m     lat = \u001b[43mway\u001b[49m\u001b[43m.\u001b[49m\u001b[43mget_center\u001b[49m().lat\n\u001b[32m     32\u001b[39m     lon = way.get_center().lon\n\u001b[32m     33\u001b[39m     eczaneler.append({\n\u001b[32m     34\u001b[39m         \u001b[33m\"\u001b[39m\u001b[33mname\u001b[39m\u001b[33m\"\u001b[39m: way.tags.get(\u001b[33m\"\u001b[39m\u001b[33mname\u001b[39m\u001b[33m\"\u001b[39m, \u001b[33m\"\u001b[39m\u001b[33mİsimsiz Eczane\u001b[39m\u001b[33m\"\u001b[39m),\n\u001b[32m     35\u001b[39m         \u001b[33m\"\u001b[39m\u001b[33mlatitude\u001b[39m\u001b[33m\"\u001b[39m: lat,\n\u001b[32m     36\u001b[39m         \u001b[33m\"\u001b[39m\u001b[33mlongitude\u001b[39m\u001b[33m\"\u001b[39m: lon\n\u001b[32m     37\u001b[39m     })\n",
      "\u001b[31mAttributeError\u001b[39m: 'Way' object has no attribute 'get_center'"
     ]
    }
   ],
   "source": [
    "import overpy\n",
    "import pandas as pd\n",
    "\n",
    "api = overpy.Overpass()\n",
    "\n",
    "query = \"\"\"\n",
    "[out:json][timeout:60];\n",
    "area[\"name\"=\"İstanbul\"][\"boundary\"=\"administrative\"]->.searchArea;\n",
    "(\n",
    "  node[\"amenity\"=\"pharmacy\"](area.searchArea);\n",
    "  way[\"amenity\"=\"pharmacy\"](area.searchArea);\n",
    "  relation[\"amenity\"=\"pharmacy\"](area.searchArea);\n",
    ");\n",
    "out center;\n",
    "\"\"\"\n",
    "\n",
    "result = api.query(query)\n",
    "\n",
    "eczaneler = []\n",
    "\n",
    "# Node\n",
    "for node in result.nodes:\n",
    "    eczaneler.append({\n",
    "        \"name\": node.tags.get(\"name\", \"İsimsiz Eczane\"),\n",
    "        \"latitude\": node.lat,\n",
    "        \"longitude\": node.lon\n",
    "    })\n",
    "\n",
    "# Way verilerini ekleyelim\n",
    "for way in result.ways:\n",
    "    lat = way.get_center().lat\n",
    "    lon = way.get_center().lon\n",
    "    eczaneler.append({\n",
    "        \"name\": way.tags.get(\"name\", \"İsimsiz Eczane\"),\n",
    "        \"latitude\": lat,\n",
    "        \"longitude\": lon\n",
    "    })\n",
    "\n",
    "# Relation verilerini ekleyelim\n",
    "for rel in result.relations:\n",
    "    lat = rel.get_center().lat\n",
    "    lon = rel.get_center().lon\n",
    "    eczaneler.append({\n",
    "        \"name\": rel.tags.get(\"name\", \"İsimsiz Eczane\"),\n",
    "        \"latitude\": lat,\n",
    "        \"longitude\": lon\n",
    "    })\n",
    "\n",
    "# DataFrame oluştur\n",
    "df_eczaneler = pd.DataFrame(eczaneler)\n",
    "\n",
    "# Kaç eczane çektiğini sorgula\n",
    "print(f\"Toplam çekilen eczane sayısı: {len(df_eczaneler)}\")\n"
   ]
  },
  {
   "cell_type": "code",
   "execution_count": 31,
   "metadata": {},
   "outputs": [
    {
     "name": "stdout",
     "output_type": "stream",
     "text": [
      "Toplam çekilen eczane sayısı: 3994\n"
     ]
    }
   ],
   "source": [
    "import overpy\n",
    "import pandas as pd\n",
    "\n",
    "api = overpy.Overpass()\n",
    "\n",
    "query = \"\"\"\n",
    "[out:json][timeout:60];\n",
    "area[\"name\"=\"İstanbul\"][\"boundary\"=\"administrative\"]->.searchArea;\n",
    "(\n",
    "  node[\"amenity\"=\"pharmacy\"](area.searchArea);\n",
    "  way[\"amenity\"=\"pharmacy\"](area.searchArea);\n",
    "  relation[\"amenity\"=\"pharmacy\"](area.searchArea);\n",
    ");\n",
    "out center;\n",
    "\"\"\"\n",
    "\n",
    "result = api.query(query)\n",
    "\n",
    "eczaneler = []\n",
    "\n",
    "# Node verilerini ekle\n",
    "for node in result.nodes:\n",
    "    eczaneler.append({\n",
    "        \"name\": node.tags.get(\"name\", \"İsimsiz Eczane\"),\n",
    "        \"latitude\": node.lat,\n",
    "        \"longitude\": node.lon\n",
    "    })\n",
    "\n",
    "# Way verilerini düzeltip ekle (center_lat, center_lon kullanılmalı)\n",
    "for way in result.ways:\n",
    "    eczaneler.append({\n",
    "        \"name\": way.tags.get(\"name\", \"İsimsiz Eczane\"),\n",
    "        \"latitude\": way.center_lat,\n",
    "        \"longitude\": way.center_lon\n",
    "    })\n",
    "\n",
    "# Relation verilerini düzeltip ekle\n",
    "for rel in result.relations:\n",
    "    eczaneler.append({\n",
    "        \"name\": rel.tags.get(\"name\", \"İsimsiz Eczane\"),\n",
    "        \"latitude\": rel.center_lat,\n",
    "        \"longitude\": rel.center_lon\n",
    "    })\n",
    "\n",
    "# DataFrame oluştur\n",
    "df_eczaneler = pd.DataFrame(eczaneler)\n",
    "\n",
    "# Kaç eczane çektiğini sorgula\n",
    "print(f\"Toplam çekilen eczane sayısı: {len(df_eczaneler)}\")\n"
   ]
  },
  {
   "cell_type": "code",
   "execution_count": 32,
   "metadata": {},
   "outputs": [],
   "source": [
    "df_eczaneler.to_csv(r\"C:\\Users\\islim\\OneDrive\\Masaüstü\\istanbul_trafik_analizi\\data\\istanbul_eczaneler.csv\", index=False, encoding='utf-8-sig')\n"
   ]
  },
  {
   "cell_type": "code",
   "execution_count": 5,
   "metadata": {},
   "outputs": [
    {
     "ename": "NameError",
     "evalue": "name 'df_eczaneler' is not defined",
     "output_type": "error",
     "traceback": [
      "\u001b[31m---------------------------------------------------------------------------\u001b[39m",
      "\u001b[31mNameError\u001b[39m                                 Traceback (most recent call last)",
      "\u001b[36mCell\u001b[39m\u001b[36m \u001b[39m\u001b[32mIn[5]\u001b[39m\u001b[32m, line 7\u001b[39m\n\u001b[32m      4\u001b[39m m_eczane = folium.Map(location=[\u001b[32m41.0082\u001b[39m, \u001b[32m28.9784\u001b[39m], zoom_start=\u001b[32m10\u001b[39m)\n\u001b[32m      6\u001b[39m \u001b[38;5;66;03m# Eczaneleri haritaya artı sembolü ile ekle\u001b[39;00m\n\u001b[32m----> \u001b[39m\u001b[32m7\u001b[39m \u001b[38;5;28;01mfor\u001b[39;00m _, row \u001b[38;5;129;01min\u001b[39;00m \u001b[43mdf_eczaneler\u001b[49m.iterrows():\n\u001b[32m      8\u001b[39m     folium.Marker(\n\u001b[32m      9\u001b[39m         location=[row[\u001b[33m\"\u001b[39m\u001b[33mlatitude\u001b[39m\u001b[33m\"\u001b[39m], row[\u001b[33m\"\u001b[39m\u001b[33mlongitude\u001b[39m\u001b[33m\"\u001b[39m]],\n\u001b[32m     10\u001b[39m         popup=row[\u001b[33m\"\u001b[39m\u001b[33mname\u001b[39m\u001b[33m\"\u001b[39m],  \n\u001b[32m     11\u001b[39m         icon=folium.Icon(color=\u001b[33m\"\u001b[39m\u001b[33mgreen\u001b[39m\u001b[33m\"\u001b[39m, icon=\u001b[33m\"\u001b[39m\u001b[33mplus-square\u001b[39m\u001b[33m\"\u001b[39m, prefix=\u001b[33m\"\u001b[39m\u001b[33mfa\u001b[39m\u001b[33m\"\u001b[39m)  \u001b[38;5;66;03m# Artı işareti sembolü ✅\u001b[39;00m\n\u001b[32m     12\u001b[39m     ).add_to(m_eczane)\n\u001b[32m     14\u001b[39m \u001b[38;5;66;03m# Haritayı HTML olarak kaydet\u001b[39;00m\n",
      "\u001b[31mNameError\u001b[39m: name 'df_eczaneler' is not defined"
     ]
    }
   ],
   "source": [
    "import folium\n",
    "\n",
    "# İstanbul merkezli eczane haritası oluştur\n",
    "m_eczane = folium.Map(location=[41.0082, 28.9784], zoom_start=10)\n",
    "\n",
    "# Eczaneleri haritaya artı sembolü ile ekle\n",
    "for _, row in df_eczaneler.iterrows():\n",
    "    folium.Marker(\n",
    "        location=[row[\"latitude\"], row[\"longitude\"]],\n",
    "        popup=row[\"name\"],  \n",
    "        icon=folium.Icon(color=\"green\", icon=\"plus-square\", prefix=\"fa\")  # Artı işareti sembolü ✅\n",
    "    ).add_to(m_eczane)\n",
    "\n",
    "# Haritayı HTML olarak kaydet\n",
    "m_eczane.save(\"istanbul_eczaneler.html\")\n",
    "\n",
    "# Haritayı Jupyter'de aç\n",
    "from IPython.display import IFrame\n",
    "IFrame(src=\"istanbul_eczaneler.html\", width=800, height=600)\n"
   ]
  },
  {
   "cell_type": "code",
   "execution_count": 6,
   "metadata": {},
   "outputs": [
    {
     "data": {
      "text/html": [
       "\n",
       "        <iframe\n",
       "            width=\"800\"\n",
       "            height=\"600\"\n",
       "            src=\"benzin_istasyonlari.html\"\n",
       "            frameborder=\"0\"\n",
       "            allowfullscreen\n",
       "            \n",
       "        ></iframe>\n",
       "        "
      ],
      "text/plain": [
       "<IPython.lib.display.IFrame at 0x2963ecefd10>"
      ]
     },
     "execution_count": 6,
     "metadata": {},
     "output_type": "execute_result"
    }
   ],
   "source": [
    "from IPython.display import IFrame\n",
    "IFrame(src=\"benzin_istasyonlari.html\", width=800, height=600)"
   ]
  },
  {
   "cell_type": "code",
   "execution_count": 7,
   "metadata": {},
   "outputs": [
    {
     "data": {
      "text/html": [
       "\n",
       "        <iframe\n",
       "            width=\"800\"\n",
       "            height=\"600\"\n",
       "            src=\"istanbul_avm.html\"\n",
       "            frameborder=\"0\"\n",
       "            allowfullscreen\n",
       "            \n",
       "        ></iframe>\n",
       "        "
      ],
      "text/plain": [
       "<IPython.lib.display.IFrame at 0x2964deedeb0>"
      ]
     },
     "execution_count": 7,
     "metadata": {},
     "output_type": "execute_result"
    }
   ],
   "source": [
    "from IPython.display import IFrame\n",
    "IFrame(src=\"istanbul_avm.html\", width=800, height=600)"
   ]
  },
  {
   "cell_type": "code",
   "execution_count": 8,
   "metadata": {},
   "outputs": [
    {
     "data": {
      "text/html": [
       "\n",
       "        <iframe\n",
       "            width=\"800\"\n",
       "            height=\"600\"\n",
       "            src=\"istanbul_hastaneler.html\"\n",
       "            frameborder=\"0\"\n",
       "            allowfullscreen\n",
       "            \n",
       "        ></iframe>\n",
       "        "
      ],
      "text/plain": [
       "<IPython.lib.display.IFrame at 0x2964f5f7800>"
      ]
     },
     "execution_count": 8,
     "metadata": {},
     "output_type": "execute_result"
    }
   ],
   "source": [
    "from IPython.display import IFrame\n",
    "IFrame(src=\"istanbul_hastaneler.html\", width=800, height=600)"
   ]
  },
  {
   "cell_type": "code",
   "execution_count": 9,
   "metadata": {},
   "outputs": [
    {
     "data": {
      "text/html": [
       "\n",
       "        <iframe\n",
       "            width=\"800\"\n",
       "            height=\"600\"\n",
       "            src=\"istanbul_eczaneler.html\"\n",
       "            frameborder=\"0\"\n",
       "            allowfullscreen\n",
       "            \n",
       "        ></iframe>\n",
       "        "
      ],
      "text/plain": [
       "<IPython.lib.display.IFrame at 0x2964f5f6570>"
      ]
     },
     "execution_count": 9,
     "metadata": {},
     "output_type": "execute_result"
    }
   ],
   "source": [
    "from IPython.display import IFrame\n",
    "IFrame(src=\"istanbul_eczaneler.html\", width=800, height=600)"
   ]
  },
  {
   "cell_type": "code",
   "execution_count": 10,
   "metadata": {},
   "outputs": [
    {
     "data": {
      "text/html": [
       "\n",
       "        <iframe\n",
       "            width=\"800\"\n",
       "            height=\"600\"\n",
       "            src=\"istanbul_yollar.html\"\n",
       "            frameborder=\"0\"\n",
       "            allowfullscreen\n",
       "            \n",
       "        ></iframe>\n",
       "        "
      ],
      "text/plain": [
       "<IPython.lib.display.IFrame at 0x2964dc770e0>"
      ]
     },
     "execution_count": 10,
     "metadata": {},
     "output_type": "execute_result"
    }
   ],
   "source": [
    "from IPython.display import IFrame\n",
    "IFrame(src=\"istanbul_yollar.html\", width=800, height=600)"
   ]
  },
  {
   "cell_type": "code",
   "execution_count": 11,
   "metadata": {},
   "outputs": [
    {
     "data": {
      "text/html": [
       "\n",
       "        <iframe\n",
       "            width=\"800\"\n",
       "            height=\"600\"\n",
       "            src=\"benzin_istasyonlari_yenii.html\"\n",
       "            frameborder=\"0\"\n",
       "            allowfullscreen\n",
       "            \n",
       "        ></iframe>\n",
       "        "
      ],
      "text/plain": [
       "<IPython.lib.display.IFrame at 0x2964f5f59d0>"
      ]
     },
     "execution_count": 11,
     "metadata": {},
     "output_type": "execute_result"
    }
   ],
   "source": [
    "from IPython.display import IFrame\n",
    "IFrame(src=\"benzin_istasyonlari_yenii.html\", width=800, height=600)"
   ]
  },
  {
   "cell_type": "code",
   "execution_count": null,
   "metadata": {},
   "outputs": [],
   "source": []
  }
 ],
 "metadata": {
  "kernelspec": {
   "display_name": "venv",
   "language": "python",
   "name": "python3"
  },
  "language_info": {
   "codemirror_mode": {
    "name": "ipython",
    "version": 3
   },
   "file_extension": ".py",
   "mimetype": "text/x-python",
   "name": "python",
   "nbconvert_exporter": "python",
   "pygments_lexer": "ipython3",
   "version": "3.12.2"
  }
 },
 "nbformat": 4,
 "nbformat_minor": 4
}
